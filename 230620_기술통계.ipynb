{
  "nbformat": 4,
  "nbformat_minor": 0,
  "metadata": {
    "colab": {
      "provenance": [],
      "authorship_tag": "ABX9TyPZzre49sz5KX1Pizysr+h7",
      "include_colab_link": true
    },
    "kernelspec": {
      "name": "python3",
      "display_name": "Python 3"
    },
    "language_info": {
      "name": "python"
    }
  },
  "cells": [
    {
      "cell_type": "markdown",
      "metadata": {
        "id": "view-in-github",
        "colab_type": "text"
      },
      "source": [
        "<a href=\"https://colab.research.google.com/github/shims94/230620_numpy_02/blob/main/230620_%EA%B8%B0%EC%88%A0%ED%86%B5%EA%B3%84.ipynb\" target=\"_parent\"><img src=\"https://colab.research.google.com/assets/colab-badge.svg\" alt=\"Open In Colab\"/></a>"
      ]
    },
    {
      "cell_type": "markdown",
      "source": [
        "# 기술 통계"
      ],
      "metadata": {
        "id": "tqxkhX-JFimj"
      }
    },
    {
      "cell_type": "markdown",
      "source": [
        "## 기술 통계(descriptive statistics)\n",
        "> 데이터 집합에 대해 통계를 계산\n",
        "* 데이터의 개수(count)\n",
        "* 평균(mean, average)\n",
        "* 분산(variance)\n",
        "* 표준 편차(standard deviation)\n",
        "* 최댓값(maximum)\n",
        "* 최솟값(minimum)\n",
        "* 중앙값(median)\n",
        "* 사분위수(quartile)"
      ],
      "metadata": {
        "id": "gchQwkseFsUX"
      }
    },
    {
      "cell_type": "code",
      "source": [
        "import numpy as np"
      ],
      "metadata": {
        "id": "jttHEMK4F9XX"
      },
      "execution_count": 1,
      "outputs": []
    },
    {
      "cell_type": "code",
      "source": [
        "x = np.array([\n",
        "    18, 5, 10, 23, 19, -8, 10, 0, 0, 5, 2, 15, 8,\n",
        "    2, 5, 4, 15, -1, 4, -7, -24, 7, 9, -6, 23, -13\n",
        "])\n",
        "x"
      ],
      "metadata": {
        "colab": {
          "base_uri": "https://localhost:8080/"
        },
        "id": "n0IfrFFONDE3",
        "outputId": "8fd8bae3-3473-4a40-95e2-d50dc4d0edd6"
      },
      "execution_count": 2,
      "outputs": [
        {
          "output_type": "execute_result",
          "data": {
            "text/plain": [
              "array([ 18,   5,  10,  23,  19,  -8,  10,   0,   0,   5,   2,  15,   8,\n",
              "         2,   5,   4,  15,  -1,   4,  -7, -24,   7,   9,  -6,  23, -13])"
            ]
          },
          "metadata": {},
          "execution_count": 2
        }
      ]
    },
    {
      "cell_type": "markdown",
      "source": [
        "## 데이터의 개수"
      ],
      "metadata": {
        "id": "5bzioyHoF557"
      }
    },
    {
      "cell_type": "code",
      "source": [
        "len(x)"
      ],
      "metadata": {
        "colab": {
          "base_uri": "https://localhost:8080/"
        },
        "id": "wlTrzCbKFl4j",
        "outputId": "290a17fb-5f69-4f1e-be5d-3ca0e65fc35d"
      },
      "execution_count": 3,
      "outputs": [
        {
          "output_type": "execute_result",
          "data": {
            "text/plain": [
              "26"
            ]
          },
          "metadata": {},
          "execution_count": 3
        }
      ]
    },
    {
      "cell_type": "markdown",
      "source": [
        "## 표본 평균\n",
        "* 우리가 일반적으로 아는 평균\n",
        "* 통계용어로는 표본 평균(sample average, sample mean)\n",
        "<br>\n",
        "$\n",
        "\\bar{x} = \\frac{1}{N}\\displaystyle\\sum_{i=1}^{N}{x_i}\n",
        "$\n",
        "(𝑁은 데이터의 개수)"
      ],
      "metadata": {
        "id": "3xe5u1nkGBgM"
      }
    },
    {
      "cell_type": "code",
      "source": [
        "np.mean(x), x.mean()"
      ],
      "metadata": {
        "colab": {
          "base_uri": "https://localhost:8080/"
        },
        "id": "SiQn6qJlF_Y_",
        "outputId": "97148f12-aa92-41c8-e7ce-b2832d2273f3"
      },
      "execution_count": 4,
      "outputs": [
        {
          "output_type": "execute_result",
          "data": {
            "text/plain": [
              "(4.8076923076923075, 4.8076923076923075)"
            ]
          },
          "metadata": {},
          "execution_count": 4
        }
      ]
    },
    {
      "cell_type": "markdown",
      "source": [
        "## 표본 분산\n",
        "* 표본 분산(sample variance) : 데이터와 표본 평균간의 거리의 제곱의 평균\n",
        "* 표본 분산이 작으면 데이터가 모여있는 것이고 크면 흩어져 있는 것\n",
        "<br>\n",
        "$\n",
        "s^2 = \\frac{1}{N}\\displaystyle\\sum_{i=1}^{N}{(x_i-\\bar{x})^2}\n",
        "$"
      ],
      "metadata": {
        "id": "sMmBl-uLHWwF"
      }
    },
    {
      "cell_type": "code",
      "source": [
        "np.var(x), x.var()"
      ],
      "metadata": {
        "colab": {
          "base_uri": "https://localhost:8080/"
        },
        "id": "ukbJg498HWZG",
        "outputId": "f9be960b-a45d-4c01-a038-d32e0d70c88f"
      },
      "execution_count": 5,
      "outputs": [
        {
          "output_type": "execute_result",
          "data": {
            "text/plain": [
              "(115.23224852071006, 115.23224852071006)"
            ]
          },
          "metadata": {},
          "execution_count": 5
        }
      ]
    },
    {
      "cell_type": "markdown",
      "source": [
        "## 표본 표준편차\n",
        "* 표본 표준편차(sample standard variance) : 표본 분산의 양의 제곱근 값\n",
        "<br>\n",
        "$\n",
        "s = \\sqrt{s^2}\n",
        "$"
      ],
      "metadata": {
        "id": "ox3H6KB8H4Hd"
      }
    },
    {
      "cell_type": "code",
      "source": [
        "np.std(x), x.std()"
      ],
      "metadata": {
        "colab": {
          "base_uri": "https://localhost:8080/"
        },
        "id": "ESjtI9K9HP8g",
        "outputId": "d3bc2ab5-9956-414f-b734-4dae578dd30b"
      },
      "execution_count": 6,
      "outputs": [
        {
          "output_type": "execute_result",
          "data": {
            "text/plain": [
              "(10.734628476137871, 10.734628476137871)"
            ]
          },
          "metadata": {},
          "execution_count": 6
        }
      ]
    },
    {
      "cell_type": "markdown",
      "source": [
        "## 최댓값과 최솟값"
      ],
      "metadata": {
        "id": "68MH4LSRINEC"
      }
    },
    {
      "cell_type": "code",
      "source": [
        "# 최댓값 (maximum) / 최솟값 (minimum)\n",
        "np.max(x), x.max(), np.min(x), x.min()"
      ],
      "metadata": {
        "colab": {
          "base_uri": "https://localhost:8080/"
        },
        "id": "E-KkdiALIPvE",
        "outputId": "81b283d6-3283-44f3-8085-c9d6cee5d1f8"
      },
      "execution_count": 7,
      "outputs": [
        {
          "output_type": "execute_result",
          "data": {
            "text/plain": [
              "(23, 23, -24, -24)"
            ]
          },
          "metadata": {},
          "execution_count": 7
        }
      ]
    },
    {
      "cell_type": "markdown",
      "source": [
        "## 중앙값\n",
        "* 중앙값(median) : 데이터를 크기대로 정렬하였을 때 가장 가운데에 있는 수\n",
        "* 만약 데이터의 수가 짝수이면 가장 가운데에 있는 두 수의 평균을 사용\n"
      ],
      "metadata": {
        "id": "vGgHFClPIWQV"
      }
    },
    {
      "cell_type": "code",
      "source": [
        "np.median(x)  # 내장 메소드 X."
      ],
      "metadata": {
        "colab": {
          "base_uri": "https://localhost:8080/"
        },
        "id": "LS2P0zPnIUvN",
        "outputId": "eb7ec78a-c252-4c16-c7d1-0e2937306b3e"
      },
      "execution_count": 8,
      "outputs": [
        {
          "output_type": "execute_result",
          "data": {
            "text/plain": [
              "5.0"
            ]
          },
          "metadata": {},
          "execution_count": 8
        }
      ]
    },
    {
      "cell_type": "markdown",
      "source": [
        "## 사분위수\n",
        "* 사분위수(quartile) : 데이터를 가장 작은 수부터 가장 큰 수까지 크기가 커지는 순서대로 정렬하였을 때 1/4, 2/4, 3/4 위치에 있는 수\n",
        "* 각각 1사분위수, 2사분위수, 3사분위수라고 함\n",
        "* 1/4의 위치란 전체 데이터의 수가 만약 100개이면 25번째 순서, 즉 하위 25%\n",
        "* 따라서 2사분위수는 중앙값과 같음\n",
        "* 때로는 위치를 1/100 단위로 나눈 백분위수(percentile)을 사용하기도 함\n",
        "* 1사분위수는 25% 백분위수와 같음\n"
      ],
      "metadata": {
        "id": "b1pLnirSIfsI"
      }
    },
    {
      "cell_type": "code",
      "source": [
        "np.percentile(x, 0)  # 최솟값. min"
      ],
      "metadata": {
        "colab": {
          "base_uri": "https://localhost:8080/"
        },
        "id": "EHTZ62T8Ici8",
        "outputId": "1e2f6549-ee13-4fed-ea21-d7c1cb6392fa"
      },
      "execution_count": 9,
      "outputs": [
        {
          "output_type": "execute_result",
          "data": {
            "text/plain": [
              "-24.0"
            ]
          },
          "metadata": {},
          "execution_count": 9
        }
      ]
    },
    {
      "cell_type": "code",
      "source": [
        "np.percentile(x, 25)  # 25% 백분위수, 1사분위수"
      ],
      "metadata": {
        "colab": {
          "base_uri": "https://localhost:8080/"
        },
        "id": "h8tVnPH6Ixcv",
        "outputId": "bbefab41-f28f-4561-bbb2-90c816231f79"
      },
      "execution_count": 10,
      "outputs": [
        {
          "output_type": "execute_result",
          "data": {
            "text/plain": [
              "0.0"
            ]
          },
          "metadata": {},
          "execution_count": 10
        }
      ]
    },
    {
      "cell_type": "code",
      "source": [
        "np.percentile(x, 50)  # 50% 백분위수, 2사분위수, 중앙값"
      ],
      "metadata": {
        "colab": {
          "base_uri": "https://localhost:8080/"
        },
        "id": "PuT1HTElIza1",
        "outputId": "f41dd4d9-5bb5-42db-949d-72a5c1c91b7d"
      },
      "execution_count": 11,
      "outputs": [
        {
          "output_type": "execute_result",
          "data": {
            "text/plain": [
              "5.0"
            ]
          },
          "metadata": {},
          "execution_count": 11
        }
      ]
    },
    {
      "cell_type": "code",
      "source": [
        "np.percentile(x, 75)  # 75% 백분위수, 3사분위수"
      ],
      "metadata": {
        "colab": {
          "base_uri": "https://localhost:8080/"
        },
        "id": "v7wB_7N_I0zM",
        "outputId": "5ef80bd7-abeb-4ae3-fcf4-c369ea8f8d7f"
      },
      "execution_count": 12,
      "outputs": [
        {
          "output_type": "execute_result",
          "data": {
            "text/plain": [
              "10.0"
            ]
          },
          "metadata": {},
          "execution_count": 12
        }
      ]
    },
    {
      "cell_type": "code",
      "source": [
        "np.percentile(x, 100)  # 100% 백분위수, 4사분위수, 최댓값"
      ],
      "metadata": {
        "colab": {
          "base_uri": "https://localhost:8080/"
        },
        "id": "JbCd4SqGI20l",
        "outputId": "30f1e52a-da56-4721-d5b3-3b48ad53f524"
      },
      "execution_count": 13,
      "outputs": [
        {
          "output_type": "execute_result",
          "data": {
            "text/plain": [
              "23.0"
            ]
          },
          "metadata": {},
          "execution_count": 13
        }
      ]
    },
    {
      "cell_type": "markdown",
      "source": [
        "# 난수 발생과 카운팅"
      ],
      "metadata": {
        "id": "x1uZuajeI9Si"
      }
    },
    {
      "cell_type": "markdown",
      "source": [
        "## 시드 설정\n",
        "* 컴퓨터 프로그램에서 발생하는 무작위 수는 사실 엄격한 의미의 무작위 수가 아님\n",
        "* 어떤 특정한 시작 숫자를 정해 주면 컴퓨터가 정해진 알고리즘에 의해 마치 난수처럼 보이는 수열을 생성. 이런 시작 숫자를 시드(seed)라고 함\n",
        "* 일단 생성된 난수는 다음번 난수 생성을 위한 시드값이 됨. 따라서 시드값은 한 번만 정해주면 됨.\n",
        "* 시드는 보통 현재 시각 등을 이용하여 자동으로 정해지지만 사람이 수동으로 설정할 수도 있음 * 특정한 시드값이 사용되면 그 다음에 만들어지는 난수들은 모두 예측할 수 있음\n",
        "* 고정된 결과를 얻기 위해서 실습엔 시드를 설정"
      ],
      "metadata": {
        "id": "ZCEj6C5UJHHc"
      }
    },
    {
      "cell_type": "code",
      "source": [
        "np.random.seed(0)  # 시드값 고정"
      ],
      "metadata": {
        "id": "R9wwclqfI8_9"
      },
      "execution_count": 14,
      "outputs": []
    },
    {
      "cell_type": "markdown",
      "source": [
        "### `rand` : 0과 1 사이의 난수를 발생"
      ],
      "metadata": {
        "id": "OQRCx_xUJf6l"
      }
    },
    {
      "cell_type": "code",
      "source": [
        "np.random.rand(5)  # rand(n) : n개의 길이를 가지는 배열에 각각 0~1 사이의 난수를 채워줌"
      ],
      "metadata": {
        "colab": {
          "base_uri": "https://localhost:8080/"
        },
        "id": "w26duH5TJb7f",
        "outputId": "f7b7d4ae-f03e-4077-8e52-cb0d227bbcfc"
      },
      "execution_count": 15,
      "outputs": [
        {
          "output_type": "execute_result",
          "data": {
            "text/plain": [
              "array([0.5488135 , 0.71518937, 0.60276338, 0.54488318, 0.4236548 ])"
            ]
          },
          "metadata": {},
          "execution_count": 15
        }
      ]
    },
    {
      "cell_type": "code",
      "source": [
        "np.random.rand(10)"
      ],
      "metadata": {
        "colab": {
          "base_uri": "https://localhost:8080/"
        },
        "id": "bnSQUYKVJkl8",
        "outputId": "95d2608e-a8a2-4756-e169-012ba48e0f5d"
      },
      "execution_count": 16,
      "outputs": [
        {
          "output_type": "execute_result",
          "data": {
            "text/plain": [
              "array([0.64589411, 0.43758721, 0.891773  , 0.96366276, 0.38344152,\n",
              "       0.79172504, 0.52889492, 0.56804456, 0.92559664, 0.07103606])"
            ]
          },
          "metadata": {},
          "execution_count": 16
        }
      ]
    },
    {
      "cell_type": "markdown",
      "source": [
        "## 데이터의 순서 변경"
      ],
      "metadata": {
        "id": "TvJHX9FmJtgQ"
      }
    },
    {
      "cell_type": "markdown",
      "source": [
        "### `shuffle`\n",
        "* 데이터의 순서를 변경\n",
        "* 자체 변환(in-place) 함수 (원본에 영향)"
      ],
      "metadata": {
        "id": "89jdzc8rJyqB"
      }
    },
    {
      "cell_type": "code",
      "source": [
        "x = np.arange(10)\n",
        "x"
      ],
      "metadata": {
        "colab": {
          "base_uri": "https://localhost:8080/"
        },
        "id": "vUHakdiQJpjl",
        "outputId": "944bdaaa-ec58-4c57-b171-13b25110e712"
      },
      "execution_count": 17,
      "outputs": [
        {
          "output_type": "execute_result",
          "data": {
            "text/plain": [
              "array([0, 1, 2, 3, 4, 5, 6, 7, 8, 9])"
            ]
          },
          "metadata": {},
          "execution_count": 17
        }
      ]
    },
    {
      "cell_type": "code",
      "source": [
        "np.random.shuffle(x)  # x를 섞어줌 -> x 자체를 섞어버림\n",
        "x"
      ],
      "metadata": {
        "colab": {
          "base_uri": "https://localhost:8080/"
        },
        "id": "ReqSVnNlJ7S0",
        "outputId": "e8ac51ea-ae5d-4ed6-c2fe-090b02550456"
      },
      "execution_count": 18,
      "outputs": [
        {
          "output_type": "execute_result",
          "data": {
            "text/plain": [
              "array([5, 1, 8, 2, 6, 7, 0, 3, 4, 9])"
            ]
          },
          "metadata": {},
          "execution_count": 18
        }
      ]
    },
    {
      "cell_type": "markdown",
      "source": [
        "## 데이터 샘플링\n",
        "* 표본선택 혹은 샘플링(sampling) : 이미 있는 데이터 집합에서 일부를 무작위로 선택하는 것"
      ],
      "metadata": {
        "id": "MbQrSKXMKJAg"
      }
    },
    {
      "cell_type": "markdown",
      "source": [
        "### `choice` : 샘플링에 사용\n",
        "```\n",
        "numpy.random.choice(a, size=None, replace=True, p=None)\n",
        "```\n",
        "* a : 배열이면 원래의 데이터, 정수이면 arange(a) 명령으로 데이터 생성\n",
        "* size : 정수. 샘플 숫자\n",
        "* replace : 불리언. True이면 한번 선택한 데이터를 다시 선택 가능 (복원/비복원 추출)\n",
        "* p : 배열. 각 데이터가 선택될 수 있는 확률"
      ],
      "metadata": {
        "id": "gEkehbizKWrq"
      }
    },
    {
      "cell_type": "code",
      "source": [
        "np.random.choice(5, 5, replace=False)  # 5개 중에 5개를 선택 -> 비복원 -> shuffle"
      ],
      "metadata": {
        "colab": {
          "base_uri": "https://localhost:8080/"
        },
        "id": "YvjoHXqIJ9KJ",
        "outputId": "249fdc82-68b0-4dda-8dd5-584714008d70"
      },
      "execution_count": 19,
      "outputs": [
        {
          "output_type": "execute_result",
          "data": {
            "text/plain": [
              "array([0, 4, 2, 1, 3])"
            ]
          },
          "metadata": {},
          "execution_count": 19
        }
      ]
    },
    {
      "cell_type": "code",
      "source": [
        "np.random.choice(5, 3, replace=False)  # 5개 중에 3개를 선택 -> 비복원"
      ],
      "metadata": {
        "colab": {
          "base_uri": "https://localhost:8080/"
        },
        "id": "knplEnwIKnYh",
        "outputId": "41e006fa-872b-4af1-df81-6b2ccb630d41"
      },
      "execution_count": 20,
      "outputs": [
        {
          "output_type": "execute_result",
          "data": {
            "text/plain": [
              "array([4, 2, 3])"
            ]
          },
          "metadata": {},
          "execution_count": 20
        }
      ]
    },
    {
      "cell_type": "code",
      "source": [
        "# np.random.choice(5, 10) # 복원, 5개 중에 10개를 선택 (뽑았던 것을 또 뽑는다)\n",
        "np.random.choice(5, 10, replace=True) # 복원, 5개 중에 10개를 선택 (뽑았던 것을 또 뽑는다)"
      ],
      "metadata": {
        "colab": {
          "base_uri": "https://localhost:8080/"
        },
        "id": "4Yd_3i6QKqMw",
        "outputId": "a833a975-697b-4fb3-9fbc-fe8839dfa27e"
      },
      "execution_count": 21,
      "outputs": [
        {
          "output_type": "execute_result",
          "data": {
            "text/plain": [
              "array([0, 2, 4, 3, 3, 2, 4, 2, 0, 0])"
            ]
          },
          "metadata": {},
          "execution_count": 21
        }
      ]
    },
    {
      "cell_type": "code",
      "source": [
        "# [0, 1, 2, 3, 4]\n",
        "np.random.choice(5, 10, p=[0.1, 0, 0.3, 0.6, 0]) # 복원, 5개 중에 10개를 선택 (뽑았던 것을 또 뽑는다)"
      ],
      "metadata": {
        "colab": {
          "base_uri": "https://localhost:8080/"
        },
        "id": "lkbuDYTuKvBN",
        "outputId": "6e09e108-1de6-429c-d3d7-2f92ad1791b3"
      },
      "execution_count": 22,
      "outputs": [
        {
          "output_type": "execute_result",
          "data": {
            "text/plain": [
              "array([2, 2, 2, 2, 3, 3, 3, 3, 0, 3])"
            ]
          },
          "metadata": {},
          "execution_count": 22
        }
      ]
    },
    {
      "cell_type": "markdown",
      "source": [
        "## 난수 생성\n",
        "* `rand` : 0부터 1 사이의 균일 분포\n",
        "* `randn` : 표준 정규 분포\n",
        "* `randint` : 균일 분포의 정수 난수"
      ],
      "metadata": {
        "id": "D8oZhgNLLCgd"
      }
    },
    {
      "cell_type": "markdown",
      "source": [
        "### `rand` : 0부터 1 사이에서 균일한 확률 분포로 실수 난수를 생성\n",
        "* 숫자 인수는 생성할 난수의 크기\n",
        "* 여러 개의 인수를 넣으면 해당 크기를 가진 행렬을 생성"
      ],
      "metadata": {
        "id": "BcH0M0-_LPMP"
      }
    },
    {
      "cell_type": "code",
      "source": [
        "np.random.rand(10)"
      ],
      "metadata": {
        "colab": {
          "base_uri": "https://localhost:8080/"
        },
        "id": "EWqs3z-zK0k_",
        "outputId": "aff2b7e8-f1da-4ec9-9962-c90477ad64c4"
      },
      "execution_count": 23,
      "outputs": [
        {
          "output_type": "execute_result",
          "data": {
            "text/plain": [
              "array([0.65314004, 0.17090959, 0.35815217, 0.75068614, 0.60783067,\n",
              "       0.32504723, 0.03842543, 0.63427406, 0.95894927, 0.65279032])"
            ]
          },
          "metadata": {},
          "execution_count": 23
        }
      ]
    },
    {
      "cell_type": "code",
      "source": [
        "np.random.rand(3, 5)"
      ],
      "metadata": {
        "colab": {
          "base_uri": "https://localhost:8080/"
        },
        "id": "DJTNzp8oLbVj",
        "outputId": "e402312c-14d1-4038-bba2-0d9c904d280e"
      },
      "execution_count": 24,
      "outputs": [
        {
          "output_type": "execute_result",
          "data": {
            "text/plain": [
              "array([[0.63505887, 0.99529957, 0.58185033, 0.41436859, 0.4746975 ],\n",
              "       [0.6235101 , 0.33800761, 0.67475232, 0.31720174, 0.77834548],\n",
              "       [0.94957105, 0.66252687, 0.01357164, 0.6228461 , 0.67365963]])"
            ]
          },
          "metadata": {},
          "execution_count": 24
        }
      ]
    },
    {
      "cell_type": "markdown",
      "source": [
        "### `randn` : 기댓값이 0이고 표준편차가 1인 표준 정규 분포(standard normal distribution)를 따르는 난수를 생성"
      ],
      "metadata": {
        "id": "HdWD5uVkLjQt"
      }
    },
    {
      "cell_type": "code",
      "source": [
        "np.random.randn(10)"
      ],
      "metadata": {
        "colab": {
          "base_uri": "https://localhost:8080/"
        },
        "id": "AlJYbewHLeZB",
        "outputId": "4f4b683d-0023-4d29-eae4-efe0dbc7dc04"
      },
      "execution_count": 25,
      "outputs": [
        {
          "output_type": "execute_result",
          "data": {
            "text/plain": [
              "array([-0.68658948,  0.01487332, -0.3756659 , -0.03822364,  0.36797447,\n",
              "       -0.0447237 , -0.30237513, -2.2244036 ,  0.72400636,  0.35900276])"
            ]
          },
          "metadata": {},
          "execution_count": 25
        }
      ]
    },
    {
      "cell_type": "code",
      "source": [
        "np.random.randn(3, 5)"
      ],
      "metadata": {
        "colab": {
          "base_uri": "https://localhost:8080/"
        },
        "id": "gbDMC1OxLt3f",
        "outputId": "ad3af069-0c0f-4fb0-b403-5b8c386a6547"
      },
      "execution_count": 26,
      "outputs": [
        {
          "output_type": "execute_result",
          "data": {
            "text/plain": [
              "array([[ 1.07612104,  0.19214083,  0.85292596,  0.01835718,  0.42830357],\n",
              "       [ 0.99627783, -0.49114966,  0.71267817,  1.11334035, -2.15367459],\n",
              "       [-0.41611148, -1.07089699,  0.22113881, -1.12305712, -1.05075796]])"
            ]
          },
          "metadata": {},
          "execution_count": 26
        }
      ]
    },
    {
      "cell_type": "markdown",
      "source": [
        "### `randint`\n",
        "```\n",
        "numpy.random.randint(low, high=None, size=None)\n",
        "```\n",
        "만약 `high`를 입력하지 않으면 0과 `low`사이의 숫자, `high`를 입력하면 `low`와 `high`는 사이의 숫자를 출력. `size`는 난수의 숫자"
      ],
      "metadata": {
        "id": "FDtGkcnjLzTM"
      }
    },
    {
      "cell_type": "code",
      "source": [
        "np.random.randint(10)  # 최대값 -> 그것보다 작은 범위에서의 랜덤 숫자 (끝점 제외)\n",
        "# np.random.randint(10, size=1)  # 최대값 -> 그것보다 작은 범위에서의 랜덤 숫자"
      ],
      "metadata": {
        "colab": {
          "base_uri": "https://localhost:8080/"
        },
        "id": "H5eTlhBGLy_D",
        "outputId": "451dcc36-cb6e-4d57-c9f0-c07cf537eea0"
      },
      "execution_count": 27,
      "outputs": [
        {
          "output_type": "execute_result",
          "data": {
            "text/plain": [
              "0"
            ]
          },
          "metadata": {},
          "execution_count": 27
        }
      ]
    },
    {
      "cell_type": "code",
      "source": [
        "np.random.randint(10, size=10)  # 시작점"
      ],
      "metadata": {
        "colab": {
          "base_uri": "https://localhost:8080/"
        },
        "id": "AYw_GmsbUPuV",
        "outputId": "b8a2348c-0323-47f1-d324-f159694e4aa4"
      },
      "execution_count": 28,
      "outputs": [
        {
          "output_type": "execute_result",
          "data": {
            "text/plain": [
              "array([8, 8, 3, 8, 2, 8, 4, 3, 0, 4])"
            ]
          },
          "metadata": {},
          "execution_count": 28
        }
      ]
    },
    {
      "cell_type": "code",
      "source": [
        "np.random.randint(10, 20, size=10)  # 시작점, 끝점"
      ],
      "metadata": {
        "colab": {
          "base_uri": "https://localhost:8080/"
        },
        "id": "xlpHLyNALuyj",
        "outputId": "127db833-8c9f-4911-cfaf-11e36cbe8705"
      },
      "execution_count": 29,
      "outputs": [
        {
          "output_type": "execute_result",
          "data": {
            "text/plain": [
              "array([13, 16, 19, 18, 10, 18, 15, 19, 10, 19])"
            ]
          },
          "metadata": {},
          "execution_count": 29
        }
      ]
    },
    {
      "cell_type": "code",
      "source": [
        "x = np.array([\n",
        "    18, 5, 10, 23, 19, -8, 10, 0, 0, 5, 2, 15, 8,\n",
        "    2, 5, 4, 15, -1, 4, -7, -24, 7, 9, -6, 23, -13\n",
        "])\n",
        "x"
      ],
      "metadata": {
        "colab": {
          "base_uri": "https://localhost:8080/"
        },
        "id": "RwOU04I2ME1f",
        "outputId": "081b384c-6fba-4c05-a372-af2fe0015606"
      },
      "execution_count": 30,
      "outputs": [
        {
          "output_type": "execute_result",
          "data": {
            "text/plain": [
              "array([ 18,   5,  10,  23,  19,  -8,  10,   0,   0,   5,   2,  15,   8,\n",
              "         2,   5,   4,  15,  -1,   4,  -7, -24,   7,   9,  -6,  23, -13])"
            ]
          },
          "metadata": {},
          "execution_count": 30
        }
      ]
    },
    {
      "cell_type": "markdown",
      "source": [
        "## 💡 연습문제 7\n",
        "1. 동전을 10번 던져 앞면(숫자 1)과 뒷면(숫자 0)이 나오는 가상 실험을 작성하라\n",
        "2. 주사위를 100번 던져서 나오는 숫자의 평균\n",
        "3. 가격이 10,000원인 주식이 있다. 이 주식의 일간 수익률(%)은 기댓값이 0%이고 표준편차가 1%인 표준 정규 분포를 따른다고 하자. 250일 동안의 주가를 무작위로 생성하라"
      ],
      "metadata": {
        "id": "dCofCh17MOVI"
      }
    },
    {
      "cell_type": "code",
      "source": [
        "# 1.\n",
        "np.random.choice([0,1], size = 10, replace = True)"
      ],
      "metadata": {
        "colab": {
          "base_uri": "https://localhost:8080/"
        },
        "id": "wSVBjqWJMGJ3",
        "outputId": "cb269e5c-6ab1-4962-9de1-afc5441dff52"
      },
      "execution_count": 32,
      "outputs": [
        {
          "output_type": "execute_result",
          "data": {
            "text/plain": [
              "array([1, 0, 1, 1, 1, 1, 0, 0, 1, 1])"
            ]
          },
          "metadata": {},
          "execution_count": 32
        }
      ]
    },
    {
      "cell_type": "code",
      "source": [
        "# 2.\n",
        "np.random.randint(1,7,100).mean()"
      ],
      "metadata": {
        "colab": {
          "base_uri": "https://localhost:8080/"
        },
        "id": "rpstIcwsNB-3",
        "outputId": "5934b204-7c5e-4862-9c81-0a618cdf204a"
      },
      "execution_count": null,
      "outputs": [
        {
          "output_type": "execute_result",
          "data": {
            "text/plain": [
              "3.66"
            ]
          },
          "metadata": {},
          "execution_count": 342
        }
      ]
    },
    {
      "cell_type": "code",
      "source": [
        "# 3.\n",
        "a = np.random.randn(250) / 100  # 일간 수익률이 표준정귶분포를 따르는 (0과 0.01 표준편차)\n",
        "a"
      ],
      "metadata": {
        "colab": {
          "base_uri": "https://localhost:8080/"
        },
        "id": "zrCTnmQBNjbm",
        "outputId": "39b79196-e15d-4b77-9527-995424c6e354"
      },
      "execution_count": 36,
      "outputs": [
        {
          "output_type": "execute_result",
          "data": {
            "text/plain": [
              "array([ 7.84208626e-03, -1.95417204e-03, -1.26459544e-02,  8.56933176e-03,\n",
              "       -4.93994346e-03,  1.46366584e-04, -1.60646646e-02,  1.61989515e-03,\n",
              "        5.35038317e-03,  8.30588610e-03,  1.04362959e-02, -7.60947295e-03,\n",
              "       -8.54313176e-04, -7.89963635e-03, -4.70839626e-03, -1.03305371e-02,\n",
              "       -2.31186710e-03, -1.61024346e-02,  1.43060190e-02, -1.72538572e-02,\n",
              "        3.59249589e-03,  8.81934954e-03,  2.05013088e-03,  1.21136351e-02,\n",
              "       -2.16942319e-02, -3.35021039e-03, -1.71697153e-02, -1.46186553e-02,\n",
              "       -5.71102085e-03, -1.96792820e-02,  6.08832004e-04,  4.48718882e-03,\n",
              "       -2.28156367e-02, -7.88809508e-03,  1.18727088e-02, -9.41222103e-03,\n",
              "       -1.28229697e-03,  1.27238613e-02, -8.02994742e-03,  1.02230320e-02,\n",
              "        1.50787592e-02, -9.23341696e-03,  6.58777556e-03,  1.28597256e-02,\n",
              "       -1.15506703e-02,  1.18876454e-03,  1.03214498e-02,  5.39952432e-03,\n",
              "       -2.25126119e-02, -3.43617256e-03, -6.79435318e-04,  1.17658723e-02,\n",
              "       -1.51501515e-02, -8.93671812e-03, -6.80243627e-03,  1.94206644e-03,\n",
              "       -9.67497398e-03,  1.06825969e-02,  1.21308761e-02,  1.14471880e-02,\n",
              "        1.67840445e-02,  4.78404880e-03,  9.17376518e-04,  4.26534769e-04,\n",
              "        1.36425174e-02,  1.09958891e-02, -6.27734441e-03, -1.29316820e-03,\n",
              "       -8.98539413e-03,  1.93064772e-02,  1.98606513e-03, -1.45807253e-03,\n",
              "       -2.19114451e-03,  1.76249777e-02, -1.28223947e-02,  2.69826794e-03,\n",
              "        8.78698596e-03,  7.96627365e-05,  1.08857292e-02,  7.89783026e-04,\n",
              "        8.06082332e-03,  5.19104919e-03, -1.27284450e-03, -8.40984011e-03,\n",
              "       -4.95306201e-03, -1.37020005e-03,  9.87424495e-03, -7.18549682e-03,\n",
              "        1.93803498e-02,  2.20391311e-03, -4.75094890e-03,  2.38653989e-03,\n",
              "        4.05642436e-03,  2.99658730e-03,  6.91165041e-03, -1.90583721e-02,\n",
              "        2.82044327e-03, -2.28763993e-02, -5.51474125e-03,  1.20762067e-02,\n",
              "       -1.15179807e-02,  1.55182596e-03, -6.32009056e-03, -1.81677267e-02,\n",
              "       -1.88014899e-03,  8.90667144e-04, -1.60539390e-02, -7.07515588e-03,\n",
              "       -2.14910446e-02,  1.26303753e-03, -4.36291006e-04,  1.01271502e-02,\n",
              "       -1.74233712e-02, -1.06847438e-02,  1.65534940e-02,  8.51931977e-03,\n",
              "        1.37098216e-02,  2.74074532e-03,  4.03809029e-03, -1.04002865e-02,\n",
              "        1.25338482e-02, -4.02224817e-03, -1.53301551e-02,  1.54624556e-02,\n",
              "        1.24546645e-03,  2.06549848e-03, -9.04994546e-03,  6.54498125e-03,\n",
              "        4.61331047e-03, -1.65459123e-02, -1.38543012e-02,  4.44631643e-03,\n",
              "       -8.46761737e-03,  8.93276358e-03,  3.86761165e-03, -5.13427186e-05,\n",
              "       -9.30139995e-03, -1.49407352e-02,  4.68739268e-03,  2.22334149e-03,\n",
              "       -2.04646486e-03, -4.64435230e-04, -6.97883742e-03, -1.12701649e-03,\n",
              "       -1.00826485e-02, -5.29337845e-04,  3.33005742e-03, -6.48981763e-03,\n",
              "       -1.54305643e-02,  1.65946033e-02, -9.70092222e-03,  1.29233496e-02,\n",
              "       -9.38761907e-03, -1.21253290e-02,  1.67364748e-02,  1.97539178e-02,\n",
              "       -1.17701205e-02,  1.28612871e-02,  8.71773490e-03, -9.85959963e-03,\n",
              "        9.34594650e-04, -1.61964135e-02, -1.62542609e-02, -5.14445498e-03,\n",
              "        3.12787072e-03,  1.56451260e-02,  8.18435504e-03,  4.02149816e-03,\n",
              "        1.18055558e-03,  3.54427721e-04, -4.77901096e-03,  6.23693170e-03,\n",
              "       -2.46952308e-02, -1.14912376e-02, -5.00970786e-03,  1.47594784e-04,\n",
              "       -3.91050579e-03, -3.88419578e-03,  1.05014196e-02, -3.20693872e-04,\n",
              "       -4.77338656e-04, -2.77342949e-03, -4.72136268e-03, -1.85329637e-03,\n",
              "        1.95420226e-03,  1.48838294e-02,  3.24843567e-03, -1.18814232e-02,\n",
              "       -1.49414282e-03, -3.03328915e-03, -1.35969704e-02, -2.13801735e-02,\n",
              "        4.00937099e-03,  7.06842389e-03,  7.92607785e-03, -2.33423082e-03,\n",
              "        8.59745314e-03,  3.66280535e-03,  7.26423161e-03,  1.79384552e-04,\n",
              "       -2.28547991e-02, -1.47884513e-02, -1.35319994e-02, -2.89455283e-04,\n",
              "       -1.71743247e-02, -1.15290926e-02,  9.41030811e-03, -1.02852693e-02,\n",
              "        6.55358098e-04,  4.10470290e-03, -1.16893036e-02, -1.91440763e-02,\n",
              "        7.32355692e-04,  7.49688133e-03,  8.61383002e-04, -1.73723493e-02,\n",
              "        1.54933777e-03, -3.06099839e-03,  9.01940817e-03,  8.32378766e-03,\n",
              "       -4.21705878e-03, -2.25102829e-02, -1.68572411e-02,  7.95706156e-03,\n",
              "       -3.42584529e-03,  3.68466907e-03, -9.74300398e-04,  6.38873498e-03,\n",
              "        1.06138668e-02, -7.73586770e-03, -6.96015438e-03, -4.12356440e-03,\n",
              "       -1.81030697e-02,  1.53082680e-02, -3.32510932e-04, -7.19820378e-04,\n",
              "        6.86529783e-04,  1.16556960e-02, -2.48495962e-03, -4.79482926e-03,\n",
              "       -8.41456671e-03, -1.34346249e-03, -7.57249672e-03,  1.63389801e-03,\n",
              "       -9.39805434e-03,  5.56344157e-03, -1.46217032e-02, -1.64254441e-03,\n",
              "        6.56636677e-03, -8.01201043e-03])"
            ]
          },
          "metadata": {},
          "execution_count": 36
        }
      ]
    },
    {
      "cell_type": "code",
      "source": [],
      "metadata": {
        "colab": {
          "base_uri": "https://localhost:8080/"
        },
        "id": "C7CgIfRJN7lQ",
        "outputId": "631f257c-b481-4dd8-e915-d4f28501b7fa"
      },
      "execution_count": null,
      "outputs": [
        {
          "output_type": "execute_result",
          "data": {
            "text/plain": [
              "array([ 9968.24569061,  9805.52172515,  9798.93887103,  9944.87995133,\n",
              "        9996.72298327, 10057.89564959,  9922.96930879,  9970.29178757,\n",
              "        9985.09264399, 10037.91830117, 10080.34141693,  9943.27087728,\n",
              "        9939.15428244,  9863.82832836,  9858.88811928,  9770.41436592,\n",
              "        9898.64815922,  9813.6215047 ,  9725.40272392,  9732.65655233,\n",
              "        9627.82619918,  9586.94035449,  9507.37214356,  9641.53752326,\n",
              "        9717.30109408,  9711.71660794,  9673.72271651,  9764.74447753,\n",
              "        9804.31162059,  9853.14223038,  9850.56147198,  9684.2613353 ,\n",
              "        9673.36983564,  9621.86011642,  9683.9264325 ,  9781.91250933,\n",
              "        9717.55231377,  9763.06789394,  9932.54293905,  9866.22208637,\n",
              "       10032.16422056,  9946.63140825,  9948.91513051,  9947.80626305,\n",
              "        9948.95015133,  9865.60998051,  9807.28616123,  9741.80092199,\n",
              "        9773.65296712,  9805.90945388, 10024.18353955, 10161.61399384,\n",
              "       10109.8056916 , 10142.64937851, 10243.78355919, 10246.91834384,\n",
              "       10239.78222817, 10245.06338999, 10333.91643038, 10246.25169649,\n",
              "       10212.88278302, 10260.92756867, 10292.8849271 , 10317.54490488,\n",
              "       10279.39050348, 10379.36125504, 10600.84314912, 10643.92661814,\n",
              "       10623.36503178, 10703.65008136, 10645.94321045, 10566.1316021 ,\n",
              "       10569.59821755, 10296.60699067, 10177.78925686, 10142.37443247,\n",
              "       10005.10866694,  9901.79160246,  9858.54569226,  9696.57320809,\n",
              "        9657.19815908,  9605.50605861,  9607.94635744,  9718.83973996,\n",
              "        9735.60516774,  9737.65568298,  9747.34021556,  9769.50496298,\n",
              "        9670.17463024,  9659.07565591,  9688.89817194,  9556.08663305,\n",
              "        9638.8091763 ,  9743.04094874,  9681.52572764,  9658.16054727,\n",
              "        9573.34351405,  9640.29761022,  9537.9926234 ,  9516.77278258,\n",
              "        9435.03132657,  9439.83887857,  9270.46652622,  9393.43570876,\n",
              "        9302.82602446,  9308.39792263,  9288.61543195,  9217.82554578,\n",
              "        9135.99152156,  9221.5408131 ,  9173.06865128,  9197.94327848,\n",
              "        9124.22204958,  9065.17177868,  9107.98179405,  9192.72323049,\n",
              "        9176.60687885,  9046.12288209,  9226.8604442 ,  9147.82783489,\n",
              "        9006.80607364,  9240.48086499,  9203.14633819,  9068.62093982,\n",
              "        9006.64237801,  9039.74583238,  9056.94951347,  8979.80883009,\n",
              "        9143.48592488,  9095.79536043,  8988.03869251,  9074.38618688,\n",
              "        9194.99048224,  9119.82206972,  8992.02169002,  9084.67892253,\n",
              "        8898.68614577,  8789.53293411,  8874.56693209,  8869.65463316,\n",
              "        8846.2443019 ,  8877.45532084,  8863.89283965,  8748.77864028,\n",
              "        8860.41964758,  8977.82145306,  8996.25584402,  9000.31621552,\n",
              "        9210.88984632,  9185.42792146,  9161.5846649 ,  9194.97692313,\n",
              "        9330.26463747,  9478.87436392,  9454.36458902,  9483.51534916,\n",
              "        9352.82459204,  9323.64601389,  9245.30031193,  9152.21569279,\n",
              "        9306.11722091,  9232.38609543,  9183.3061855 ,  9216.90319987,\n",
              "        9336.52249843,  9381.44192045,  9640.30921785,  9633.11099386,\n",
              "        9658.03343571,  9684.65104095,  9823.63056633,  9873.45984697,\n",
              "        9861.98395417,  9768.54278098,  9792.42134455,  9929.64693492,\n",
              "        9888.89747172,  9941.20416383,  9965.67421805, 10051.72977401,\n",
              "        9970.83810266, 10204.81847891, 10074.28240989, 10037.45576073,\n",
              "       10131.61638452, 10161.68025124, 10246.02079085, 10195.19004257,\n",
              "       10187.56353242, 10188.80967353, 10348.69854894, 10420.14896737,\n",
              "       10503.16338784, 10434.06033537, 10535.15413445, 10558.91951041,\n",
              "       10705.59824618, 10921.2154348 , 10887.71288352, 10843.47576524,\n",
              "       10749.78325603, 10734.34876972, 10693.34082564, 10731.78385637,\n",
              "       10716.26925805, 10677.51930548, 10791.19058892, 10689.98214568,\n",
              "       10736.28130854, 10692.69826276, 10770.1528013 , 10919.34758658,\n",
              "       10886.25123476, 10934.26318507, 10953.81286756, 10866.2456339 ,\n",
              "       10892.41019616, 10923.90238756, 10969.00399297, 10947.24161006,\n",
              "       10957.55306875, 10831.80299044, 10793.01277931, 10853.01790238,\n",
              "       10949.87825314, 10903.63529406, 10915.05292993, 10939.94507107,\n",
              "       10961.98686657, 11021.26639597, 10820.89121704, 10815.55391307,\n",
              "       10841.40672108, 10732.95683939, 10912.62500283, 10930.25535982,\n",
              "       11101.13949076, 11013.3824274 , 10913.45799525, 10937.93166719,\n",
              "       10754.31788116, 10777.43596411, 10787.91370458, 10897.48279868,\n",
              "       10973.87865825, 10928.06520044, 10808.13005044, 10993.19822562,\n",
              "       10906.11945123, 10792.09329415])"
            ]
          },
          "metadata": {},
          "execution_count": 340
        }
      ]
    },
    {
      "cell_type": "code",
      "source": [
        "start = 10000 # 가격이 10000원 250일 평균/표준편차가 반영되면서 250일\n",
        "price = np.empty(250) # 자리\n",
        "for i, v in enumerate(a):\n",
        "  start += (1 + v) # i = index, v = 변화율\n",
        "  # -> 해당 금액의 변화율이 반영된 금액이다\n",
        "  price[i] = start # 변화율에 따라서 변경된 금액에 배열에 저장\n",
        ""
      ],
      "metadata": {
        "id": "6BRZZftfa15Y"
      },
      "execution_count": null,
      "outputs": []
    },
    {
      "cell_type": "markdown",
      "source": [
        "## 정수 데이터 카운팅\n",
        "* 만약 난수가 정수값이면 unique 명령이나 bincount 명령으로 데이터 값을 분석"
      ],
      "metadata": {
        "id": "zc2junJdO2d8"
      }
    },
    {
      "cell_type": "markdown",
      "source": [
        "### `unique`\n",
        "* unique 함수는 데이터에서 중복된 값을 제거하고 중복되지 않는 값의 리스트를 출력\n",
        "* return_counts 인수를 True 로 설정하면 각 값을 가진 데이터 갯수도 출력\n"
      ],
      "metadata": {
        "id": "NQWG8zU8PJtG"
      }
    },
    {
      "cell_type": "code",
      "source": [],
      "metadata": {
        "colab": {
          "base_uri": "https://localhost:8080/"
        },
        "id": "Zy46ohsVPDJv",
        "outputId": "15bdfdae-8b16-4d23-e9b3-bc7aa8beb424"
      },
      "execution_count": null,
      "outputs": [
        {
          "output_type": "execute_result",
          "data": {
            "text/plain": [
              "array([ 2, 11, 34])"
            ]
          },
          "metadata": {},
          "execution_count": 343
        }
      ]
    },
    {
      "cell_type": "code",
      "source": [],
      "metadata": {
        "id": "9l5BuLbwPPQF"
      },
      "execution_count": null,
      "outputs": []
    },
    {
      "cell_type": "code",
      "source": [],
      "metadata": {
        "colab": {
          "base_uri": "https://localhost:8080/"
        },
        "id": "kMLRdBasPQ4L",
        "outputId": "9bfdb09c-119f-45fb-cc5c-1dfcfe0cf439"
      },
      "execution_count": null,
      "outputs": [
        {
          "output_type": "execute_result",
          "data": {
            "text/plain": [
              "array(['a', 'b', 'c'], dtype='<U1')"
            ]
          },
          "metadata": {},
          "execution_count": 345
        }
      ]
    },
    {
      "cell_type": "code",
      "source": [],
      "metadata": {
        "colab": {
          "base_uri": "https://localhost:8080/"
        },
        "id": "Kpx6OGmoPRi1",
        "outputId": "aaf9d7d6-a932-48e8-83a3-537b100eacc8"
      },
      "execution_count": null,
      "outputs": [
        {
          "output_type": "execute_result",
          "data": {
            "text/plain": [
              "array([2, 2, 1])"
            ]
          },
          "metadata": {},
          "execution_count": 346
        }
      ]
    },
    {
      "cell_type": "markdown",
      "source": [
        "### `bincount`\n",
        "* `unique` 함수는 데이터에 존재하는 값에 대해서만 갯수를 세므로 데이터 값이 나올 수 있음에도 불구하고 데이터가 하나도 없는 경우에는 정보를 주지 않음\n",
        "* 따라서 데이터가 주사위를 던졌을 때 나오는 수처럼 특정 범위안의 수인 경우에는 `bincount` 함수에 `minlength` 인수를 설정하여 쓰는 것이 더 편리\n",
        "* `bincount` 함수는 0 부터 `minlength` - 1 까지의 숫자에 대해 각각 카운트\n",
        "* 데이터가 없을 경우에는 카운트 값이 0이 됨"
      ],
      "metadata": {
        "id": "GihAHqezPWii"
      }
    },
    {
      "cell_type": "code",
      "source": [],
      "metadata": {
        "colab": {
          "base_uri": "https://localhost:8080/"
        },
        "id": "SWLVdyPEPmqk",
        "outputId": "b2249dd1-8f85-48ef-f4db-be0ab4eda4b5"
      },
      "execution_count": null,
      "outputs": [
        {
          "output_type": "execute_result",
          "data": {
            "text/plain": [
              "array([0, 2, 3, 1, 0, 0])"
            ]
          },
          "metadata": {},
          "execution_count": 347
        }
      ]
    },
    {
      "cell_type": "markdown",
      "source": [
        "# 기술 통계"
      ],
      "metadata": {
        "id": "24JVvD_Lm-f_"
      }
    },
    {
      "cell_type": "markdown",
      "source": [
        "## 기술 통계(descriptive statistics)\n",
        "> 데이터 집합에 대해 통계를 계산\n",
        "* 데이터의 개수(count)\n",
        "* 평균(mean, average)\n",
        "* 분산(variance)\n",
        "* 표준 편차(standard deviation)\n",
        "* 최댓값(maximum)\n",
        "* 최솟값(minimum)\n",
        "* 중앙값(median)\n",
        "* 사분위수(quartile)"
      ],
      "metadata": {
        "id": "l7f6tVxWm-gG"
      }
    },
    {
      "cell_type": "code",
      "source": [
        "import numpy as np"
      ],
      "metadata": {
        "id": "4PS_I_Fnm-gH"
      },
      "execution_count": null,
      "outputs": []
    },
    {
      "cell_type": "code",
      "source": [
        "x = np.array([\n",
        "    18, 5, 10, 23, 19, -8, 10, 0, 0, 5, 2, 15, 8,\n",
        "    2, 5, 4, 15, -1, 4, -7, -24, 7, 9, -6, 23, -13\n",
        "])\n",
        "x"
      ],
      "metadata": {
        "colab": {
          "base_uri": "https://localhost:8080/"
        },
        "outputId": "b3c174b2-d0df-4dc9-9d03-e53c1be6dc6e",
        "id": "ihRMjmKQm-gH"
      },
      "execution_count": null,
      "outputs": [
        {
          "output_type": "execute_result",
          "data": {
            "text/plain": [
              "array([ 18,   5,  10,  23,  19,  -8,  10,   0,   0,   5,   2,  15,   8,\n",
              "         2,   5,   4,  15,  -1,   4,  -7, -24,   7,   9,  -6,  23, -13])"
            ]
          },
          "metadata": {},
          "execution_count": 2
        }
      ]
    },
    {
      "cell_type": "markdown",
      "source": [
        "## 데이터의 개수"
      ],
      "metadata": {
        "id": "fDYfdZrBm-gH"
      }
    },
    {
      "cell_type": "code",
      "source": [
        "len(x)"
      ],
      "metadata": {
        "colab": {
          "base_uri": "https://localhost:8080/"
        },
        "outputId": "f74b11b5-ca57-45c4-e8cc-83a10efaead6",
        "id": "PJg_LJoAm-gH"
      },
      "execution_count": null,
      "outputs": [
        {
          "output_type": "execute_result",
          "data": {
            "text/plain": [
              "26"
            ]
          },
          "metadata": {},
          "execution_count": 3
        }
      ]
    },
    {
      "cell_type": "markdown",
      "source": [
        "## 표본 평균\n",
        "* 우리가 일반적으로 아는 평균\n",
        "* 통계용어로는 표본 평균(sample average, sample mean)\n",
        "<br>\n",
        "$\n",
        "\\bar{x} = \\frac{1}{N}\\displaystyle\\sum_{i=1}^{N}{x_i}\n",
        "$\n",
        "(𝑁은 데이터의 개수)"
      ],
      "metadata": {
        "id": "DzHOyBI7m-gH"
      }
    },
    {
      "cell_type": "code",
      "source": [
        "np.mean(x), x.mean()"
      ],
      "metadata": {
        "colab": {
          "base_uri": "https://localhost:8080/"
        },
        "outputId": "f213ecbd-f073-4a0f-a01f-eb881773f208",
        "id": "4zihTXeLm-gH"
      },
      "execution_count": null,
      "outputs": [
        {
          "output_type": "execute_result",
          "data": {
            "text/plain": [
              "(4.8076923076923075, 4.8076923076923075)"
            ]
          },
          "metadata": {},
          "execution_count": 4
        }
      ]
    },
    {
      "cell_type": "markdown",
      "source": [
        "## 표본 분산\n",
        "* 표본 분산(sample variance) : 데이터와 표본 평균간의 거리의 제곱의 평균\n",
        "* 표본 분산이 작으면 데이터가 모여있는 것이고 크면 흩어져 있는 것\n",
        "<br>\n",
        "$\n",
        "s^2 = \\frac{1}{N}\\displaystyle\\sum_{i=1}^{N}{(x_i-\\bar{x})^2}\n",
        "$"
      ],
      "metadata": {
        "id": "DSAidky4m-gH"
      }
    },
    {
      "cell_type": "code",
      "source": [
        "np.var(x), x.var()"
      ],
      "metadata": {
        "colab": {
          "base_uri": "https://localhost:8080/"
        },
        "outputId": "06502227-377a-4d7b-d269-e641a44f0d6d",
        "id": "WdquvS4zm-gI"
      },
      "execution_count": null,
      "outputs": [
        {
          "output_type": "execute_result",
          "data": {
            "text/plain": [
              "(115.23224852071006, 115.23224852071006)"
            ]
          },
          "metadata": {},
          "execution_count": 5
        }
      ]
    },
    {
      "cell_type": "markdown",
      "source": [
        "## 표본 표준편차\n",
        "* 표본 표준편차(sample standard variance) : 표본 분산의 양의 제곱근 값\n",
        "<br>\n",
        "$\n",
        "s = \\sqrt{s^2}\n",
        "$"
      ],
      "metadata": {
        "id": "rLLvNxLDm-gI"
      }
    },
    {
      "cell_type": "code",
      "source": [
        "np.std(x), x.std()"
      ],
      "metadata": {
        "colab": {
          "base_uri": "https://localhost:8080/"
        },
        "outputId": "35454185-c20a-49a5-bb31-2c5cd4635dee",
        "id": "meaI8zuHm-gI"
      },
      "execution_count": null,
      "outputs": [
        {
          "output_type": "execute_result",
          "data": {
            "text/plain": [
              "(10.734628476137871, 10.734628476137871)"
            ]
          },
          "metadata": {},
          "execution_count": 6
        }
      ]
    },
    {
      "cell_type": "markdown",
      "source": [
        "## 최댓값과 최솟값"
      ],
      "metadata": {
        "id": "wKUTasylm-gI"
      }
    },
    {
      "cell_type": "code",
      "source": [
        "# 최댓값 (maximum) / 최솟값 (minimum)\n",
        "np.max(x), x.max(), np.min(x), x.min()"
      ],
      "metadata": {
        "colab": {
          "base_uri": "https://localhost:8080/"
        },
        "outputId": "ef982fda-1c96-4605-e8fb-3ec3fe93fa7b",
        "id": "hr55u3QUm-gI"
      },
      "execution_count": null,
      "outputs": [
        {
          "output_type": "execute_result",
          "data": {
            "text/plain": [
              "(23, 23, -24, -24)"
            ]
          },
          "metadata": {},
          "execution_count": 7
        }
      ]
    },
    {
      "cell_type": "markdown",
      "source": [
        "## 중앙값\n",
        "* 중앙값(median) : 데이터를 크기대로 정렬하였을 때 가장 가운데에 있는 수\n",
        "* 만약 데이터의 수가 짝수이면 가장 가운데에 있는 두 수의 평균을 사용\n"
      ],
      "metadata": {
        "id": "13JD8Xmxm-gI"
      }
    },
    {
      "cell_type": "code",
      "source": [
        "np.median(x)  # 내장 메소드 X."
      ],
      "metadata": {
        "colab": {
          "base_uri": "https://localhost:8080/"
        },
        "outputId": "ddab4220-8c79-421d-93be-d85a79238d49",
        "id": "j0U_pmYKm-gI"
      },
      "execution_count": null,
      "outputs": [
        {
          "output_type": "execute_result",
          "data": {
            "text/plain": [
              "5.0"
            ]
          },
          "metadata": {},
          "execution_count": 9
        }
      ]
    },
    {
      "cell_type": "markdown",
      "source": [
        "## 사분위수\n",
        "* 사분위수(quartile) : 데이터를 가장 작은 수부터 가장 큰 수까지 크기가 커지는 순서대로 정렬하였을 때 1/4, 2/4, 3/4 위치에 있는 수\n",
        "* 각각 1사분위수, 2사분위수, 3사분위수라고 함\n",
        "* 1/4의 위치란 전체 데이터의 수가 만약 100개이면 25번째 순서, 즉 하위 25%\n",
        "* 따라서 2사분위수는 중앙값과 같음\n",
        "* 때로는 위치를 1/100 단위로 나눈 백분위수(percentile)을 사용하기도 함\n",
        "* 1사분위수는 25% 백분위수와 같음\n"
      ],
      "metadata": {
        "id": "tBcWh_g9m-gI"
      }
    },
    {
      "cell_type": "code",
      "source": [
        "np.percentile(x, 0)  # 최솟값. min"
      ],
      "metadata": {
        "colab": {
          "base_uri": "https://localhost:8080/"
        },
        "outputId": "771a43d4-a233-4bdc-a33e-54daf08439f9",
        "id": "yOgK7jwcm-gI"
      },
      "execution_count": null,
      "outputs": [
        {
          "output_type": "execute_result",
          "data": {
            "text/plain": [
              "-24.0"
            ]
          },
          "metadata": {},
          "execution_count": 10
        }
      ]
    },
    {
      "cell_type": "code",
      "source": [
        "np.percentile(x, 25)  # 25% 백분위수, 1사분위수"
      ],
      "metadata": {
        "colab": {
          "base_uri": "https://localhost:8080/"
        },
        "outputId": "75ddfee8-2698-4171-9d48-6dbce5c510cd",
        "id": "8qp9Cp1om-gJ"
      },
      "execution_count": null,
      "outputs": [
        {
          "output_type": "execute_result",
          "data": {
            "text/plain": [
              "0.0"
            ]
          },
          "metadata": {},
          "execution_count": 301
        }
      ]
    },
    {
      "cell_type": "code",
      "source": [
        "np.percentile(x, 50)  # 50% 백분위수, 2사분위수, 중앙값"
      ],
      "metadata": {
        "colab": {
          "base_uri": "https://localhost:8080/"
        },
        "outputId": "aa274477-a29d-47a7-d7ba-741d684eb2ef",
        "id": "M-NavrWEm-gJ"
      },
      "execution_count": null,
      "outputs": [
        {
          "output_type": "execute_result",
          "data": {
            "text/plain": [
              "5.0"
            ]
          },
          "metadata": {},
          "execution_count": 11
        }
      ]
    },
    {
      "cell_type": "code",
      "source": [
        "np.percentile(x, 75)  # 75% 백분위수, 3사분위수"
      ],
      "metadata": {
        "colab": {
          "base_uri": "https://localhost:8080/"
        },
        "outputId": "3dee320b-7590-4255-c12d-0cf74cadb5e9",
        "id": "-mFF0Ffvm-gJ"
      },
      "execution_count": null,
      "outputs": [
        {
          "output_type": "execute_result",
          "data": {
            "text/plain": [
              "10.0"
            ]
          },
          "metadata": {},
          "execution_count": 12
        }
      ]
    },
    {
      "cell_type": "code",
      "source": [
        "np.percentile(x, 100)  # 100% 백분위수, 4사분위수, 최댓값"
      ],
      "metadata": {
        "colab": {
          "base_uri": "https://localhost:8080/"
        },
        "outputId": "a64838b8-81be-42e3-d030-cd4a9dad5ecc",
        "id": "ieFhMxIJm-gJ"
      },
      "execution_count": null,
      "outputs": [
        {
          "output_type": "execute_result",
          "data": {
            "text/plain": [
              "23.0"
            ]
          },
          "metadata": {},
          "execution_count": 13
        }
      ]
    },
    {
      "cell_type": "markdown",
      "source": [
        "# 난수 발생과 카운팅"
      ],
      "metadata": {
        "id": "0n6hH09pm-gJ"
      }
    },
    {
      "cell_type": "markdown",
      "source": [
        "## 시드 설정\n",
        "* 컴퓨터 프로그램에서 발생하는 무작위 수는 사실 엄격한 의미의 무작위 수가 아님\n",
        "* 어떤 특정한 시작 숫자를 정해 주면 컴퓨터가 정해진 알고리즘에 의해 마치 난수처럼 보이는 수열을 생성. 이런 시작 숫자를 시드(seed)라고 함\n",
        "* 일단 생성된 난수는 다음번 난수 생성을 위한 시드값이 됨. 따라서 시드값은 한 번만 정해주면 됨.\n",
        "* 시드는 보통 현재 시각 등을 이용하여 자동으로 정해지지만 사람이 수동으로 설정할 수도 있음 * 특정한 시드값이 사용되면 그 다음에 만들어지는 난수들은 모두 예측할 수 있음\n",
        "* 고정된 결과를 얻기 위해서 실습엔 시드를 설정"
      ],
      "metadata": {
        "id": "sOks-HCGm-gJ"
      }
    },
    {
      "cell_type": "code",
      "source": [
        "np.random.seed(0)  # 시드값 고정"
      ],
      "metadata": {
        "id": "-AoSc-nDm-gJ"
      },
      "execution_count": null,
      "outputs": []
    },
    {
      "cell_type": "markdown",
      "source": [
        "### `rand` : 0과 1 사이의 난수를 발생"
      ],
      "metadata": {
        "id": "uKdR3X4tm-gJ"
      }
    },
    {
      "cell_type": "code",
      "source": [
        "np.random.rand(5)  # rand(n) : n개의 길이를 가지는 배열에 각각 0~1 사이의 난수를 채워줌"
      ],
      "metadata": {
        "colab": {
          "base_uri": "https://localhost:8080/"
        },
        "outputId": "7f3fca87-89ed-4089-e697-1ac25432e01d",
        "id": "xRhXP17Lm-gJ"
      },
      "execution_count": null,
      "outputs": [
        {
          "output_type": "execute_result",
          "data": {
            "text/plain": [
              "array([0.5488135 , 0.71518937, 0.60276338, 0.54488318, 0.4236548 ])"
            ]
          },
          "metadata": {},
          "execution_count": 16
        }
      ]
    },
    {
      "cell_type": "code",
      "source": [
        "np.random.rand(10)"
      ],
      "metadata": {
        "colab": {
          "base_uri": "https://localhost:8080/"
        },
        "outputId": "97f35d27-7773-4f1a-fa51-223ee18c34e5",
        "id": "uovXFC9Dm-gJ"
      },
      "execution_count": null,
      "outputs": [
        {
          "output_type": "execute_result",
          "data": {
            "text/plain": [
              "array([0.64589411, 0.43758721, 0.891773  , 0.96366276, 0.38344152,\n",
              "       0.79172504, 0.52889492, 0.56804456, 0.92559664, 0.07103606])"
            ]
          },
          "metadata": {},
          "execution_count": 17
        }
      ]
    },
    {
      "cell_type": "markdown",
      "source": [
        "## 데이터의 순서 변경"
      ],
      "metadata": {
        "id": "PzCvUCaPm-gJ"
      }
    },
    {
      "cell_type": "markdown",
      "source": [
        "### `shuffle`\n",
        "* 데이터의 순서를 변경\n",
        "* 자체 변환(in-place) 함수 (원본에 영향)"
      ],
      "metadata": {
        "id": "JgQYTCsVm-gK"
      }
    },
    {
      "cell_type": "code",
      "source": [
        "x = np.arange(10)\n",
        "x"
      ],
      "metadata": {
        "colab": {
          "base_uri": "https://localhost:8080/"
        },
        "outputId": "758f8564-d64d-4152-bde4-c20259ec0ea9",
        "id": "gOFLun5pm-gK"
      },
      "execution_count": null,
      "outputs": [
        {
          "output_type": "execute_result",
          "data": {
            "text/plain": [
              "array([0, 1, 2, 3, 4, 5, 6, 7, 8, 9])"
            ]
          },
          "metadata": {},
          "execution_count": 18
        }
      ]
    },
    {
      "cell_type": "code",
      "source": [
        "np.random.shuffle(x)  # x를 섞어줌 -> x 자체를 섞어버림\n",
        "x"
      ],
      "metadata": {
        "colab": {
          "base_uri": "https://localhost:8080/"
        },
        "outputId": "3bdaa35d-3935-4deb-d59b-da845182fbe2",
        "id": "0ztwmMAkm-gK"
      },
      "execution_count": null,
      "outputs": [
        {
          "output_type": "execute_result",
          "data": {
            "text/plain": [
              "array([5, 1, 8, 2, 6, 7, 0, 3, 4, 9])"
            ]
          },
          "metadata": {},
          "execution_count": 19
        }
      ]
    },
    {
      "cell_type": "markdown",
      "source": [
        "## 데이터 샘플링\n",
        "* 표본선택 혹은 샘플링(sampling) : 이미 있는 데이터 집합에서 일부를 무작위로 선택하는 것"
      ],
      "metadata": {
        "id": "bdcArqcvm-gK"
      }
    },
    {
      "cell_type": "markdown",
      "source": [
        "### `choice` : 샘플링에 사용\n",
        "```\n",
        "numpy.random.choice(a, size=None, replace=True, p=None)\n",
        "```\n",
        "* a : 배열이면 원래의 데이터, 정수이면 arange(a) 명령으로 데이터 생성\n",
        "* size : 정수. 샘플 숫자\n",
        "* replace : 불리언. True이면 한번 선택한 데이터를 다시 선택 가능 (복원/비복원 추출)\n",
        "* p : 배열. 각 데이터가 선택될 수 있는 확률"
      ],
      "metadata": {
        "id": "g3dwx08Cm-gK"
      }
    },
    {
      "cell_type": "code",
      "source": [
        "np.random.choice(5, 5, replace=False)  # 5개 중에 5개를 선택 -> 비복원 -> shuffle"
      ],
      "metadata": {
        "colab": {
          "base_uri": "https://localhost:8080/"
        },
        "outputId": "357ca240-0a76-4c48-9a8f-d6e85e1ff124",
        "id": "-3QnH8rGm-gK"
      },
      "execution_count": null,
      "outputs": [
        {
          "output_type": "execute_result",
          "data": {
            "text/plain": [
              "array([0, 4, 2, 1, 3])"
            ]
          },
          "metadata": {},
          "execution_count": 20
        }
      ]
    },
    {
      "cell_type": "code",
      "source": [
        "np.random.choice(5, 3, replace=False)  # 5개 중에 3개를 선택 -> 비복원"
      ],
      "metadata": {
        "colab": {
          "base_uri": "https://localhost:8080/"
        },
        "outputId": "cb95f56f-108d-4d41-c179-dc6b0e041ce4",
        "id": "WWCJHOyhm-gK"
      },
      "execution_count": null,
      "outputs": [
        {
          "output_type": "execute_result",
          "data": {
            "text/plain": [
              "array([4, 2, 3])"
            ]
          },
          "metadata": {},
          "execution_count": 21
        }
      ]
    },
    {
      "cell_type": "code",
      "source": [
        "# np.random.choice(5, 10) # 복원, 5개 중에 10개를 선택 (뽑았던 것을 또 뽑는다)\n",
        "np.random.choice(5, 10, replace=True) # 복원, 5개 중에 10개를 선택 (뽑았던 것을 또 뽑는다)"
      ],
      "metadata": {
        "colab": {
          "base_uri": "https://localhost:8080/"
        },
        "outputId": "112cf876-f042-4888-b094-b89abd9d0ac9",
        "id": "UysZZRmKm-gK"
      },
      "execution_count": null,
      "outputs": [
        {
          "output_type": "execute_result",
          "data": {
            "text/plain": [
              "array([0, 2, 4, 3, 3, 2, 4, 2, 0, 0])"
            ]
          },
          "metadata": {},
          "execution_count": 22
        }
      ]
    },
    {
      "cell_type": "code",
      "source": [
        "# [0, 1, 2, 3, 4]\n",
        "np.random.choice(5, 10, p=[0.1, 0, 0.3, 0.6, 0]) # 복원, 5개 중에 10개를 선택 (뽑았던 것을 또 뽑는다)"
      ],
      "metadata": {
        "colab": {
          "base_uri": "https://localhost:8080/"
        },
        "outputId": "337f87fb-46d7-4124-8651-ef752621ab61",
        "id": "Dct6HemKm-gK"
      },
      "execution_count": null,
      "outputs": [
        {
          "output_type": "execute_result",
          "data": {
            "text/plain": [
              "array([2, 2, 2, 2, 3, 3, 3, 3, 0, 3])"
            ]
          },
          "metadata": {},
          "execution_count": 23
        }
      ]
    },
    {
      "cell_type": "markdown",
      "source": [
        "## 난수 생성\n",
        "* `rand` : 0부터 1 사이의 균일 분포\n",
        "* `randn` : 표준 정규 분포\n",
        "* `randint` : 균일 분포의 정수 난수"
      ],
      "metadata": {
        "id": "bkc57c5Mm-gL"
      }
    },
    {
      "cell_type": "markdown",
      "source": [
        "### `rand` : 0부터 1 사이에서 균일한 확률 분포로 실수 난수를 생성\n",
        "* 숫자 인수는 생성할 난수의 크기\n",
        "* 여러 개의 인수를 넣으면 해당 크기를 가진 행렬을 생성"
      ],
      "metadata": {
        "id": "ER7epYPCm-gL"
      }
    },
    {
      "cell_type": "code",
      "source": [
        "np.random.rand(10)"
      ],
      "metadata": {
        "colab": {
          "base_uri": "https://localhost:8080/"
        },
        "outputId": "fbd23445-5b29-4b72-ebff-f0b70b3ac8a4",
        "id": "D3tASu1Km-gL"
      },
      "execution_count": null,
      "outputs": [
        {
          "output_type": "execute_result",
          "data": {
            "text/plain": [
              "array([0.65314004, 0.17090959, 0.35815217, 0.75068614, 0.60783067,\n",
              "       0.32504723, 0.03842543, 0.63427406, 0.95894927, 0.65279032])"
            ]
          },
          "metadata": {},
          "execution_count": 24
        }
      ]
    },
    {
      "cell_type": "code",
      "source": [
        "np.random.rand(3, 5)"
      ],
      "metadata": {
        "colab": {
          "base_uri": "https://localhost:8080/"
        },
        "outputId": "ba1dff93-def8-4c95-9500-84cfe002a878",
        "id": "p3z_Gk4Hm-gL"
      },
      "execution_count": null,
      "outputs": [
        {
          "output_type": "execute_result",
          "data": {
            "text/plain": [
              "array([[0.63505887, 0.99529957, 0.58185033, 0.41436859, 0.4746975 ],\n",
              "       [0.6235101 , 0.33800761, 0.67475232, 0.31720174, 0.77834548],\n",
              "       [0.94957105, 0.66252687, 0.01357164, 0.6228461 , 0.67365963]])"
            ]
          },
          "metadata": {},
          "execution_count": 25
        }
      ]
    },
    {
      "cell_type": "markdown",
      "source": [
        "### `randn` : 기댓값이 0이고 표준편차가 1인 표준 정규 분포(standard normal distribution)를 따르는 난수를 생성"
      ],
      "metadata": {
        "id": "Nke1T1osm-gL"
      }
    },
    {
      "cell_type": "code",
      "source": [
        "np.random.randn(10)"
      ],
      "metadata": {
        "colab": {
          "base_uri": "https://localhost:8080/"
        },
        "outputId": "52ad4679-deb0-4e59-e23f-e38622ad9000",
        "id": "9nWClhyxm-gL"
      },
      "execution_count": null,
      "outputs": [
        {
          "output_type": "execute_result",
          "data": {
            "text/plain": [
              "array([-0.68658948,  0.01487332, -0.3756659 , -0.03822364,  0.36797447,\n",
              "       -0.0447237 , -0.30237513, -2.2244036 ,  0.72400636,  0.35900276])"
            ]
          },
          "metadata": {},
          "execution_count": 26
        }
      ]
    },
    {
      "cell_type": "code",
      "source": [
        "np.random.randn(3, 5)"
      ],
      "metadata": {
        "colab": {
          "base_uri": "https://localhost:8080/"
        },
        "outputId": "f17a7c6d-8936-44ca-ee9d-5ac9f370b89c",
        "id": "yl_DXPahm-gL"
      },
      "execution_count": null,
      "outputs": [
        {
          "output_type": "execute_result",
          "data": {
            "text/plain": [
              "array([[ 1.07612104,  0.19214083,  0.85292596,  0.01835718,  0.42830357],\n",
              "       [ 0.99627783, -0.49114966,  0.71267817,  1.11334035, -2.15367459],\n",
              "       [-0.41611148, -1.07089699,  0.22113881, -1.12305712, -1.05075796]])"
            ]
          },
          "metadata": {},
          "execution_count": 27
        }
      ]
    },
    {
      "cell_type": "markdown",
      "source": [
        "### `randint`\n",
        "```\n",
        "numpy.random.randint(low, high=None, size=None)\n",
        "```\n",
        "만약 `high`를 입력하지 않으면 0과 `low`사이의 숫자, `high`를 입력하면 `low`와 `high`는 사이의 숫자를 출력. `size`는 난수의 숫자"
      ],
      "metadata": {
        "id": "W5Z8VNfXm-gL"
      }
    },
    {
      "cell_type": "code",
      "source": [
        "np.random.randint(10)  # 최대값 -> 그것보다 작은 범위에서의 랜덤 숫자 (끝점 제외)\n",
        "# np.random.randint(10, size=1)  # 최대값 -> 그것보다 작은 범위에서의 랜덤 숫자"
      ],
      "metadata": {
        "colab": {
          "base_uri": "https://localhost:8080/"
        },
        "outputId": "a448bc55-4e9f-4021-8f94-83e668ff1484",
        "id": "Acj_oOR0m-gL"
      },
      "execution_count": null,
      "outputs": [
        {
          "output_type": "execute_result",
          "data": {
            "text/plain": [
              "8"
            ]
          },
          "metadata": {},
          "execution_count": 29
        }
      ]
    },
    {
      "cell_type": "code",
      "source": [
        "np.random.randint(10, size=10)  # 시작점"
      ],
      "metadata": {
        "colab": {
          "base_uri": "https://localhost:8080/"
        },
        "outputId": "303295f7-363a-44b6-a12a-cf83b90003f6",
        "id": "ILr7kWQ1m-gM"
      },
      "execution_count": null,
      "outputs": [
        {
          "output_type": "execute_result",
          "data": {
            "text/plain": [
              "array([8, 3, 8, 2, 8, 4, 3, 0, 4, 3])"
            ]
          },
          "metadata": {},
          "execution_count": 30
        }
      ]
    },
    {
      "cell_type": "code",
      "source": [
        "np.random.randint(10, 20, size=10)  # 시작점, 끝점"
      ],
      "metadata": {
        "colab": {
          "base_uri": "https://localhost:8080/"
        },
        "outputId": "b1fa7b5f-a2c6-4487-97ed-9cfdc6dd53ed",
        "id": "Q8kczk9wm-gM"
      },
      "execution_count": null,
      "outputs": [
        {
          "output_type": "execute_result",
          "data": {
            "text/plain": [
              "array([16, 19, 18, 10, 18, 15, 19, 10, 19, 16])"
            ]
          },
          "metadata": {},
          "execution_count": 31
        }
      ]
    },
    {
      "cell_type": "code",
      "source": [
        "np.random.randint(10, 20, size=(3,5))"
      ],
      "metadata": {
        "colab": {
          "base_uri": "https://localhost:8080/"
        },
        "outputId": "6ba7c7a6-aaf9-4eff-98e0-a4788191df5d",
        "id": "IHcrMj7Sm-gM"
      },
      "execution_count": null,
      "outputs": [
        {
          "output_type": "execute_result",
          "data": {
            "text/plain": [
              "array([[15, 13, 11, 18, 10],\n",
              "       [14, 19, 16, 15, 17],\n",
              "       [18, 18, 19, 12, 18]])"
            ]
          },
          "metadata": {},
          "execution_count": 32
        }
      ]
    },
    {
      "cell_type": "markdown",
      "source": [
        "## 💡 연습문제 7\n",
        "1. 동전을 10번 던져 앞면(숫자 1)과 뒷면(숫자 0)이 나오는 가상 실험을 작성하라\n",
        "2. 주사위를 100번 던져서 나오는 숫자의 평균\n",
        "3. 가격이 10,000원인 주식이 있다. 이 주식의 일간 수익률(%)은 기댓값이 0%이고 표준편차가 1%인 표준 정규 분포를 따른다고 하자. 250일 동안의 주가를 무작위로 생성하라"
      ],
      "metadata": {
        "id": "uPj2GL5dm-gM"
      }
    },
    {
      "cell_type": "code",
      "source": [
        "# 1.\n",
        "np.random.choice([0, 1], size=10, replace=True)"
      ],
      "metadata": {
        "colab": {
          "base_uri": "https://localhost:8080/"
        },
        "outputId": "2c603048-157c-4385-f044-f3c074e6c4b3",
        "id": "OOhHCW7Gm-gM"
      },
      "execution_count": null,
      "outputs": [
        {
          "output_type": "execute_result",
          "data": {
            "text/plain": [
              "array([0, 0, 1, 0, 1, 0, 1, 1, 0, 0])"
            ]
          },
          "metadata": {},
          "execution_count": 34
        }
      ]
    },
    {
      "cell_type": "code",
      "source": [
        "np.random.choice([\"H\", \"T\"], size=10, replace=True)"
      ],
      "metadata": {
        "colab": {
          "base_uri": "https://localhost:8080/"
        },
        "id": "Q9_W8SAdZP0z",
        "outputId": "af4b714d-3ced-4fb0-c90d-f5ff97b1b4da"
      },
      "execution_count": null,
      "outputs": [
        {
          "output_type": "execute_result",
          "data": {
            "text/plain": [
              "array(['H', 'T', 'H', 'H', 'T', 'T', 'T', 'T', 'H', 'T'], dtype='<U1')"
            ]
          },
          "metadata": {},
          "execution_count": 35
        }
      ]
    },
    {
      "cell_type": "code",
      "source": [
        "# 2.\n",
        "# np.random.randint(1, 7, 100)\n",
        "# np.random.randint(1, 7, 100).mean()\n",
        "np.random.choice(range(1,7), size=100, replace=True).mean()"
      ],
      "metadata": {
        "colab": {
          "base_uri": "https://localhost:8080/"
        },
        "outputId": "4584e703-1645-4735-8edc-263480d3e450",
        "id": "_lAB-C2Em-gM"
      },
      "execution_count": null,
      "outputs": [
        {
          "output_type": "execute_result",
          "data": {
            "text/plain": [
              "3.52"
            ]
          },
          "metadata": {},
          "execution_count": 38
        }
      ]
    },
    {
      "cell_type": "code",
      "source": [
        "# 3.\n",
        "np.random.randn(250)  # 정규분포!\n",
        "# 평균(기댓값)이 0이고, 표준편차가 1인 정규분포. 1% -> 0.01"
      ],
      "metadata": {
        "colab": {
          "base_uri": "https://localhost:8080/"
        },
        "outputId": "13c50421-0985-4979-fcce-f8f414feb3be",
        "id": "OqtONliJm-gM"
      },
      "execution_count": null,
      "outputs": [
        {
          "output_type": "execute_result",
          "data": {
            "text/plain": [
              "array([ 5.37303358e-01, -1.80641634e-01, -3.51324048e-01, -2.83419039e-01,\n",
              "        6.87417069e-01, -5.52111259e-02,  4.64463062e-01,  1.21940615e+00,\n",
              "       -5.59494921e-01, -7.99753646e-01, -6.19564145e-02,  4.78616217e-01,\n",
              "        5.41855505e-01, -2.76199223e-01,  8.44562604e-03,  4.17933750e-01,\n",
              "       -7.16912431e-01,  1.65127286e+00,  7.49986156e-01,  1.34023724e+00,\n",
              "       -1.44060550e+00, -1.97453122e+00, -1.49290445e+00, -4.40193355e-01,\n",
              "       -7.99284669e-02, -1.03208472e+00,  7.48544811e-01,  2.54969150e+00,\n",
              "       -5.88179941e-01,  6.12608375e-01, -1.90186505e-01,  2.24924244e+00,\n",
              "        1.38974492e+00, -5.11201572e-01, -3.47808067e-01,  2.17182257e-01,\n",
              "       -1.50944590e+00,  3.01069300e-01,  3.75846986e-01, -6.81376135e-01,\n",
              "        7.20683570e-01,  1.69119050e+00, -6.85184006e-02, -4.66560893e-01,\n",
              "        5.84712361e-01,  7.95175364e-01,  3.60858129e-01, -4.82413541e-01,\n",
              "       -3.47699469e-01, -1.26655868e+00, -7.66566456e-01,  2.05729685e-01,\n",
              "       -6.08372876e-01, -3.23170018e-01, -1.61526826e+00,  4.33678508e-01,\n",
              "       -2.17975305e-01,  1.02332446e+00, -1.34135273e-01,  4.67238250e-02,\n",
              "       -5.95088194e-01, -1.94971646e+00, -5.30025915e-01, -1.06035551e+00,\n",
              "       -9.08488209e-01, -3.49754102e-02, -1.42639726e+00, -1.30253700e+00,\n",
              "       -1.19075805e+00, -1.70542820e-01,  8.14051775e-01, -5.20146285e-01,\n",
              "        1.93460204e+00, -5.21957165e-02, -1.05748566e+00, -1.58089981e-01,\n",
              "       -2.38411518e-01,  2.79499904e-01,  1.96207776e+00,  1.24693061e+00,\n",
              "        1.87860323e-01,  1.28141221e+00,  1.37526452e+00,  1.42060848e+00,\n",
              "       -5.57274885e-01,  1.65797453e+00,  4.52820796e-01, -3.68432913e-01,\n",
              "       -1.28673963e+00, -1.63452129e+00, -1.02766393e-02, -2.56034595e-01,\n",
              "        9.18040287e-01, -1.27256373e-01,  2.17670686e-01,  4.32433666e-01,\n",
              "       -5.15730733e-01, -2.97603302e-01, -6.53701983e-01,  1.86875673e+00,\n",
              "        2.37409722e-01, -1.31995575e+00, -8.11488544e-01, -4.49499252e-01,\n",
              "        4.10723764e-01,  3.13078497e-01,  4.31040851e-01, -1.31442876e+00,\n",
              "        2.32129058e+00,  9.66177147e-01, -3.65681000e-02, -5.31366565e-01,\n",
              "       -1.24184898e+00,  1.36176578e+00,  8.89634036e-01, -1.08226054e+00,\n",
              "       -6.20586274e-01, -1.17082676e+00,  7.74862796e-01,  1.09381785e+00,\n",
              "       -4.62139092e-01, -8.16674755e-01, -1.39461530e+00,  7.82441647e-01,\n",
              "        1.04395119e+00, -1.17002837e+00, -3.05216345e-01,  1.76050296e-01,\n",
              "        9.23557558e-01, -8.47614041e-01, -7.83279673e-01, -2.17349361e+00,\n",
              "       -1.15828751e+00, -1.79254722e-02,  1.49014495e+00, -9.96443362e-01,\n",
              "       -5.41503320e-01, -5.03011203e-01, -6.46835732e-01,  7.18607719e-01,\n",
              "       -9.57701508e-01, -6.41009161e-01,  1.26604121e+00,  4.29045002e-01,\n",
              "       -1.00968041e+00,  5.13946245e-01, -1.98764709e-01,  2.38935706e-01,\n",
              "       -9.52575987e-01, -2.93721040e-01, -9.14617927e-02,  1.11690450e-01,\n",
              "       -1.75256041e-01, -4.09468007e-01,  1.02505228e+00, -4.17302728e-02,\n",
              "       -1.64871326e+00,  3.54757876e-01, -1.05485521e+00,  8.82663468e-01,\n",
              "        1.03647276e+00,  1.58111458e-01,  6.71658182e-01,  1.52114204e+00,\n",
              "        6.11045670e-01, -9.47877520e-01,  9.69148178e-01,  5.20923167e-01,\n",
              "        4.16592958e-01, -4.53738553e-01,  6.26939615e-01,  5.44319278e-01,\n",
              "        8.12947686e-01,  1.17618439e+00, -1.18932571e+00,  1.04290371e+00,\n",
              "        5.97379222e-01,  8.05223092e-01,  1.79832820e+00, -5.03236100e-01,\n",
              "        3.91578510e-01,  1.04066115e+00, -8.08113794e-01,  1.08884843e+00,\n",
              "       -1.65013411e+00, -1.48775137e+00,  8.96793669e-01,  1.93055476e+00,\n",
              "       -4.08370682e-01,  6.53467552e-01,  1.21471110e+00, -3.70364397e-01,\n",
              "       -9.03413473e-02,  1.79352570e-01, -2.51743321e-01,  2.05471840e-02,\n",
              "        6.40684284e-01,  1.59316521e-03, -3.40462989e-02,  3.56432975e-02,\n",
              "       -8.76869921e-03, -3.67761109e-01, -1.64716478e+00, -6.94379837e-01,\n",
              "       -4.26539773e-01,  9.08989438e-01,  1.47077291e+00, -1.00026975e-01,\n",
              "       -4.15398075e-01, -2.02364760e+00,  7.84861147e-01, -6.21958642e-01,\n",
              "        2.18945674e+00,  1.20229415e+00,  1.60613474e+00, -5.91632578e-01,\n",
              "       -1.09107262e+00, -7.88976228e-01, -7.49195393e-01,  2.89323479e-01,\n",
              "       -1.41971239e-02, -9.01044169e-01,  9.07474996e-01, -3.34321250e-01,\n",
              "       -3.87453984e-01,  1.03955858e-05,  2.39405857e-01,  1.97096025e-01,\n",
              "        5.91523141e-01, -8.04933727e-01, -1.10277324e+00, -7.62297844e-01,\n",
              "        2.61313895e-01, -7.53841428e-01, -5.59614293e-01, -1.05585180e+00,\n",
              "        3.66767864e-01,  1.80190374e+00, -2.03254007e+00, -7.22672405e-01,\n",
              "       -7.20780931e-01,  4.95452879e-01, -2.90807701e-01, -1.03379078e+00,\n",
              "        1.78548921e-01, -1.47532499e+00, -1.25129555e+00, -2.36760877e+00,\n",
              "       -6.71237437e-01, -1.18691754e+00])"
            ]
          },
          "metadata": {},
          "execution_count": 41
        }
      ]
    },
    {
      "cell_type": "code",
      "source": [
        "a = np.random.randn(250) / 100  # 일간 수익률이 표준정규분포를 따르는 (0과 0.01 표준편차)\n",
        "a"
      ],
      "metadata": {
        "colab": {
          "base_uri": "https://localhost:8080/"
        },
        "id": "HXsIVlCJaJ5k",
        "outputId": "a30b3ef7-ad42-4e64-a3b8-14d15cde94cf"
      },
      "execution_count": null,
      "outputs": [
        {
          "output_type": "execute_result",
          "data": {
            "text/plain": [
              "array([-0.01154609, -0.01614361, -0.01453265, -0.01021484,  0.00737634,\n",
              "        0.00319999,  0.01092688, -0.00794358,  0.0073372 ,  0.00670218,\n",
              "        0.0050135 , -0.00456125,  0.00040553,  0.00922115, -0.01720215,\n",
              "        0.00108806, -0.00517229, -0.02308549,  0.01012457,  0.00664704,\n",
              "        0.00058089, -0.00983818, -0.00096541, -0.00050066,  0.00484718,\n",
              "        0.00561661,  0.00976254,  0.00256702, -0.00050132,  0.01213628,\n",
              "        0.00740709,  0.00061205, -0.00268167,  0.00631917, -0.0045058 ,\n",
              "       -0.00152788,  0.00528646,  0.00589822,  0.00249405, -0.0003409 ,\n",
              "       -0.00916612,  0.00629795,  0.01190861,  0.00514424,  0.00134779,\n",
              "        0.01223688,  0.00395996,  0.02616066, -0.00254885, -0.00595866,\n",
              "        0.00096873, -0.01270893, -0.01875642,  0.00336776, -0.01565554,\n",
              "        0.01887319, -0.00728759,  0.00201026, -0.00746496,  0.01299394,\n",
              "       -0.00641203, -0.0052038 , -0.0034883 , -0.00013075, -0.00981377,\n",
              "       -0.01450624,  0.00320157,  0.01746811,  0.00407325,  0.00311181,\n",
              "        0.00299761,  0.0059163 , -0.00165131, -0.00524848,  0.00939177,\n",
              "       -0.01588747,  0.01627092, -0.00218554, -0.00956771,  0.00081919,\n",
              "        0.01218239, -0.01611324,  0.01246523,  0.00270573, -0.01252432,\n",
              "        0.00580836,  0.00065934, -0.00054698,  0.00089804, -0.00359909,\n",
              "       -0.01155384, -0.019468  , -0.00520646, -0.01771698, -0.00689636,\n",
              "       -0.00571566,  0.00031342, -0.01114314,  0.00292032,  0.00035516,\n",
              "        0.001162  ,  0.00899094, -0.00784406,  0.00267019, -0.00671776,\n",
              "       -0.02088501,  0.01697175,  0.0275704 ,  0.0233441 , -0.00301637,\n",
              "       -0.0223701 ,  0.01865599, -0.00386295, -0.02317946,  0.00111399,\n",
              "        0.00581586, -0.01307359,  0.00847456, -0.01147013,  0.00672919,\n",
              "        0.01180002,  0.01587084, -0.00772396, -0.00968738, -0.0106389 ,\n",
              "       -0.01431234, -0.01866601, -0.02131464,  0.00955668,  0.00367825,\n",
              "        0.00983578, -0.00229501,  0.00710358,  0.00426446,  0.01465039,\n",
              "        0.00641432,  0.01180125,  0.00547184, -0.00041561,  0.00269732,\n",
              "        0.00229456,  0.00718926, -0.01354375,  0.02227793, -0.00864897,\n",
              "        0.01445184,  0.00431594,  0.02059356,  0.0177113 , -0.0137609 ,\n",
              "        0.00448492,  0.02232889, -0.00604045, -0.00842543, -0.00675833,\n",
              "       -0.01608711, -0.00332821, -0.00854913, -0.00559195,  0.00022855,\n",
              "       -0.00936304, -0.00203877,  0.01125189,  0.00562054, -0.00345179,\n",
              "        0.00011406,  0.00828365, -0.00498205,  0.00179654, -0.01113962,\n",
              "       -0.0160069 ,  0.01200553,  0.00018846, -0.00375281, -0.01052863,\n",
              "        0.02462908,  0.00276643,  0.00440598, -0.00798192, -0.00241586,\n",
              "        0.00341705,  0.00262778,  0.000214  , -0.00723461,  0.00256355,\n",
              "        0.00044731,  0.01552961,  0.0003925 , -0.01004974, -0.00479654,\n",
              "        0.0031977 , -0.00666166, -0.00229302, -0.00252846, -0.01512939,\n",
              "        0.00653947,  0.01022936,  0.00208806,  0.00037564,  0.00850385,\n",
              "       -0.00074368, -0.00831571, -0.01847764,  0.01542592, -0.01636793,\n",
              "        0.0045523 ,  0.00520435,  0.00554325,  0.01011642, -0.00089584,\n",
              "       -0.00413823, -0.00671006, -0.00307003, -0.00687948, -0.00337483,\n",
              "       -0.00043424, -0.01225269,  0.00696904,  0.00558107,  0.0075479 ,\n",
              "        0.00462765, -0.01051082, -0.00936944, -0.01032924, -0.00735074,\n",
              "       -0.0011734 , -0.0072191 , -0.00584687,  0.01000176,  0.00689621,\n",
              "        0.00705941, -0.00024356,  0.0004372 ,  0.00715181,  0.00141633,\n",
              "       -0.00518174, -0.00376255,  0.00760188, -0.00221439, -0.0026643 ,\n",
              "        0.01511464,  0.01238232,  0.00978431,  0.01830023,  0.00493001,\n",
              "        0.01427344,  0.01065094,  0.00259679, -0.00399547, -0.01375925])"
            ]
          },
          "metadata": {},
          "execution_count": 43
        }
      ]
    },
    {
      "cell_type": "code",
      "source": [
        "start = 10000  # 가격이 10000원 -> 250일 -> 평균/표준편차가 반영되면서 250일.\n",
        "price = np.empty(250)  # 자리\n",
        "for i, v in enumerate(a): # a -> 가격이 0의 기댓값, 1%의 표준편차를 바탕으로 250일치의 변화율이 생성\n",
        "    start *= (1 + v)  # i = index, v = 변화율\n",
        "    # -> 해당 금액의 변화율이 반영된 금액\n",
        "    price[i] = start  # 변화율에 따라서 변경된 금액에 배열에 저장.\n",
        "    # 한 번씩 for이 돌때마다 -> index += 1 => 계속 변화율이 반영된 금액들이 다음 인덱스에 저장"
      ],
      "metadata": {
        "id": "dJmlDRpRm-gN"
      },
      "execution_count": null,
      "outputs": []
    },
    {
      "cell_type": "code",
      "source": [
        "price"
      ],
      "metadata": {
        "colab": {
          "base_uri": "https://localhost:8080/"
        },
        "id": "eiEPHPZwbNY0",
        "outputId": "4164407f-e19f-466f-c9ff-1dd3a49d7c74"
      },
      "execution_count": null,
      "outputs": [
        {
          "output_type": "execute_result",
          "data": {
            "text/plain": [
              "array([ 9884.53909689,  9724.96690836,  9583.6373517 ,  9485.74205865,\n",
              "        9555.71212754,  9586.29028803,  9691.03851062,  9614.05698112,\n",
              "        9684.59726481,  9749.50519752,  9798.38430707,  9753.69143633,\n",
              "        9757.64681857,  9847.62354836,  9678.22325463,  9688.75376369,\n",
              "        9638.64073783,  9416.12797942,  9511.46220956,  9574.6852764 ,\n",
              "        9580.24710392,  9485.99487037,  9476.83696948,  9472.09225658,\n",
              "        9518.00517863,  9571.46411503,  9664.90595457,  9689.71592841,\n",
              "        9684.85826594,  9802.3964211 ,  9875.00360839,  9881.04763514,\n",
              "        9854.54992864,  9916.82251791,  9872.13926656,  9857.05584273,\n",
              "        9909.16472958,  9967.61120748,  9992.47090991,  9989.06445641,\n",
              "        9897.50353498,  9959.83748267, 10078.44526874, 10130.29119584,\n",
              "       10143.94472451, 10268.07493045, 10308.73613251, 10578.4195002 ,\n",
              "       10551.4567055 , 10488.58412508, 10498.74468169, 10365.31688236,\n",
              "       10170.90060605, 10205.15373918, 10045.3865031 , 10234.97496873,\n",
              "       10160.38662905, 10180.81162353, 10104.81224985, 10236.11356796,\n",
              "       10170.47934125, 10117.55419641, 10082.26115558, 10080.94293234,\n",
              "        9982.01083874,  9837.20943314,  9868.70392074, 10041.09153661,\n",
              "       10081.99137605, 10113.36457156, 10143.68054335, 10203.69361095,\n",
              "       10186.84410369, 10133.37870192, 10228.54907504, 10066.04329692,\n",
              "       10229.82711501, 10207.46941942, 10109.80726503, 10118.08910735,\n",
              "       10241.35163418, 10076.33023633, 10201.93397251, 10229.53769967,\n",
              "       10101.41974365, 10160.09238103, 10166.79131851, 10161.23025101,\n",
              "       10170.35548812, 10133.75150679, 10016.66778071,  9821.66329653,\n",
              "        9770.52715351,  9597.42293644,  9531.23564917,  9476.75833868,\n",
              "        9479.72854516,  9374.09462367,  9401.46998062,  9404.80896601,\n",
              "        9415.7373413 ,  9500.39367526,  9425.8720084 ,  9451.0408386 ,\n",
              "        9387.55101515,  9191.49195992,  9347.48768398,  9605.20162932,\n",
              "        9829.42640525,  9799.77717413,  9580.55520817,  9759.28999225,\n",
              "        9721.59031483,  9496.24912842,  9506.82783604,  9562.11822596,\n",
              "        9437.10703422,  9517.08235898,  9407.92017541,  9471.22785121,\n",
              "        9582.98852286,  9735.07861772,  9659.88529391,  9566.30628163,\n",
              "        9464.53130524,  9329.0717309 ,  9154.93518902,  8959.80105475,\n",
              "        9045.42703871,  9078.69833892,  9167.99438455,  9146.9537129 ,\n",
              "        9211.92984854,  9251.21371478,  9386.7476462 ,  9446.95725521,\n",
              "        9558.44317963,  9610.74541726,  9606.75113139,  9632.66363623,\n",
              "        9654.76632662,  9724.17696713,  9592.47512063,  9806.17561432,\n",
              "        9721.36230012,  9861.85385818,  9904.4170498 , 10108.38421429,\n",
              "       10287.41683527, 10145.8526906 , 10191.35607034, 10418.91773892,\n",
              "       10355.98282438, 10268.72921522, 10199.32977215, 10035.2520405 ,\n",
              "       10001.8525773 ,  9916.34545132,  9860.89375575,  9863.14745208,\n",
              "        9770.79842448,  9750.87801216,  9860.59382343,  9916.01572075,\n",
              "        9881.78769088,  9882.91481039,  9964.78139487,  9915.13638332,\n",
              "        9932.94936369,  9822.30006036,  9665.07548622,  9781.10988711,\n",
              "        9782.95324075,  9746.23967535,  9643.62513312,  9881.13873121,\n",
              "        9908.47423114,  9952.13080234,  9872.69372053,  9848.84262541,\n",
              "        9882.49659867,  9908.46562418,  9910.58604865,  9838.88682555,\n",
              "        9864.10932895,  9868.52166256, 10021.77593907, 10025.70946094,\n",
              "        9924.95363778,  9877.34823237,  9908.93305345,  9842.92307801,\n",
              "        9820.35303929,  9795.5226348 ,  9647.32235874,  9710.41074225,\n",
              "        9809.74201238,  9830.22532071,  9833.91797234,  9917.54413851,\n",
              "        9910.16865783,  9827.75854592,  9646.16477732,  9794.96576984,\n",
              "        9634.64243352,  9678.50217649,  9728.87252295,  9782.80210002,\n",
              "        9881.7690134 ,  9872.91653586,  9832.06017681,  9766.08642516,\n",
              "        9736.10425017,  9669.12494231,  9636.49326049,  9632.3087576 ,\n",
              "        9514.28705797,  9580.59247228,  9634.06244884,  9706.77937128,\n",
              "        9751.69897717,  9649.20063992,  9558.79301095,  9460.05795617,\n",
              "        9390.51950888,  9379.50067734,  9311.78915527,  9257.34433708,\n",
              "        9349.93406992,  9414.41315565,  9480.87331657,  9478.56410951,\n",
              "        9482.7080938 ,  9550.52658157,  9564.05326893,  9514.49481974,\n",
              "        9478.69609709,  9550.75202355,  9529.6029194 ,  9504.21320571,\n",
              "        9647.86599177,  9767.32892533,  9862.89546672, 10043.38868331,\n",
              "       10092.90266439, 10236.96313168, 10345.99640003, 10372.86275735,\n",
              "       10331.41829954, 10189.26572573])"
            ]
          },
          "metadata": {},
          "execution_count": 45
        }
      ]
    },
    {
      "cell_type": "markdown",
      "source": [
        "## 정수 데이터 카운팅\n",
        "* 만약 난수가 정수값이면 unique 명령이나 bincount 명령으로 데이터 값을 분석"
      ],
      "metadata": {
        "id": "jRaO_wGum-gP"
      }
    },
    {
      "cell_type": "markdown",
      "source": [
        "### `unique`\n",
        "* unique 함수는 데이터에서 중복된 값을 제거하고 중복되지 않는 값의 리스트를 출력\n",
        "* return_counts 인수를 True 로 설정하면 각 값을 가진 데이터 갯수도 출력\n"
      ],
      "metadata": {
        "id": "A8G96vY9m-gP"
      }
    },
    {
      "cell_type": "code",
      "source": [
        "np.unique([11, 11, 2, 2, 34, 34])"
      ],
      "metadata": {
        "colab": {
          "base_uri": "https://localhost:8080/"
        },
        "outputId": "30724bf0-4930-4cad-9e5d-5db3c4a80547",
        "id": "F5wHputZm-gP"
      },
      "execution_count": null,
      "outputs": [
        {
          "output_type": "execute_result",
          "data": {
            "text/plain": [
              "array([ 2, 11, 34])"
            ]
          },
          "metadata": {},
          "execution_count": 46
        }
      ]
    },
    {
      "cell_type": "code",
      "source": [
        "a = np.array(list('abbca'))\n",
        "a"
      ],
      "metadata": {
        "colab": {
          "base_uri": "https://localhost:8080/"
        },
        "id": "7ggTX_pKcVo6",
        "outputId": "bc2b2da8-7403-488d-babc-7d80a070b709"
      },
      "execution_count": null,
      "outputs": [
        {
          "output_type": "execute_result",
          "data": {
            "text/plain": [
              "array(['a', 'b', 'b', 'c', 'a'], dtype='<U1')"
            ]
          },
          "metadata": {},
          "execution_count": 49
        }
      ]
    },
    {
      "cell_type": "code",
      "source": [
        "np.unique(a, return_counts=True)"
      ],
      "metadata": {
        "colab": {
          "base_uri": "https://localhost:8080/"
        },
        "id": "ieHVBvvaclXM",
        "outputId": "e9256f2e-6c0f-4878-98ab-7c4d139ce9bd"
      },
      "execution_count": null,
      "outputs": [
        {
          "output_type": "execute_result",
          "data": {
            "text/plain": [
              "(array(['a', 'b', 'c'], dtype='<U1'), array([2, 2, 1]))"
            ]
          },
          "metadata": {},
          "execution_count": 50
        }
      ]
    },
    {
      "cell_type": "code",
      "source": [
        "index, value = np.unique(a, return_counts=True)\n",
        "index, value"
      ],
      "metadata": {
        "colab": {
          "base_uri": "https://localhost:8080/"
        },
        "outputId": "514620e1-4445-49f4-b054-ffa84d9296d5",
        "id": "efz-bfOKm-gQ"
      },
      "execution_count": null,
      "outputs": [
        {
          "output_type": "execute_result",
          "data": {
            "text/plain": [
              "(array(['a', 'b', 'c'], dtype='<U1'), array([2, 2, 1]))"
            ]
          },
          "metadata": {},
          "execution_count": 51
        }
      ]
    },
    {
      "cell_type": "code",
      "source": [
        "# dict(np.unique(a, return_counts=True))"
      ],
      "metadata": {
        "colab": {
          "base_uri": "https://localhost:8080/",
          "height": 176
        },
        "outputId": "93df843a-5fab-4cc9-b474-a451c229cf51",
        "id": "Nj-fF8Xrm-gQ"
      },
      "execution_count": null,
      "outputs": [
        {
          "output_type": "error",
          "ename": "ValueError",
          "evalue": "ignored",
          "traceback": [
            "\u001b[0;31m---------------------------------------------------------------------------\u001b[0m",
            "\u001b[0;31mValueError\u001b[0m                                Traceback (most recent call last)",
            "\u001b[0;32m<ipython-input-52-1d9953bed3a8>\u001b[0m in \u001b[0;36m<cell line: 1>\u001b[0;34m()\u001b[0m\n\u001b[0;32m----> 1\u001b[0;31m \u001b[0mdict\u001b[0m\u001b[0;34m(\u001b[0m\u001b[0mnp\u001b[0m\u001b[0;34m.\u001b[0m\u001b[0munique\u001b[0m\u001b[0;34m(\u001b[0m\u001b[0ma\u001b[0m\u001b[0;34m,\u001b[0m \u001b[0mreturn_counts\u001b[0m\u001b[0;34m=\u001b[0m\u001b[0;32mTrue\u001b[0m\u001b[0;34m)\u001b[0m\u001b[0;34m)\u001b[0m\u001b[0;34m\u001b[0m\u001b[0;34m\u001b[0m\u001b[0m\n\u001b[0m",
            "\u001b[0;31mValueError\u001b[0m: dictionary update sequence element #0 has length 3; 2 is required"
          ]
        }
      ]
    },
    {
      "cell_type": "code",
      "source": [
        "index, value"
      ],
      "metadata": {
        "colab": {
          "base_uri": "https://localhost:8080/"
        },
        "id": "b3IHoNVvdTId",
        "outputId": "ddc777c7-ac4c-44c5-9873-cb7c32f1dc13"
      },
      "execution_count": null,
      "outputs": [
        {
          "output_type": "execute_result",
          "data": {
            "text/plain": [
              "(array(['a', 'b', 'c'], dtype='<U1'), array([2, 2, 1]))"
            ]
          },
          "metadata": {},
          "execution_count": 55
        }
      ]
    },
    {
      "cell_type": "code",
      "source": [
        "list(zip(index, value))  # 같은 인덱스에 있는 값끼리 튜플화시켜서 묶어줌\n",
        "# index, value == *np.unique(a, return_counts=True)"
      ],
      "metadata": {
        "colab": {
          "base_uri": "https://localhost:8080/"
        },
        "id": "AYJnZiCLdVhU",
        "outputId": "18d2a2d1-8468-49f3-e360-5f352993ebd1"
      },
      "execution_count": null,
      "outputs": [
        {
          "output_type": "execute_result",
          "data": {
            "text/plain": [
              "[('a', 2), ('b', 2), ('c', 1)]"
            ]
          },
          "metadata": {},
          "execution_count": 56
        }
      ]
    },
    {
      "cell_type": "code",
      "source": [
        "dict(zip(*np.unique(a, return_counts=True)))  # key, value"
      ],
      "metadata": {
        "colab": {
          "base_uri": "https://localhost:8080/"
        },
        "outputId": "9782ad2d-df11-4175-f790-c4515f75e008",
        "id": "csJLyCHAm-gR"
      },
      "execution_count": null,
      "outputs": [
        {
          "output_type": "execute_result",
          "data": {
            "text/plain": [
              "{'a': 2, 'b': 2, 'c': 1}"
            ]
          },
          "metadata": {},
          "execution_count": 57
        }
      ]
    },
    {
      "cell_type": "markdown",
      "source": [
        "### `bincount`\n",
        "* `unique` 함수는 데이터에 존재하는 값에 대해서만 갯수를 세므로 데이터 값이 나올 수 있음에도 불구하고 데이터가 하나도 없는 경우에는 정보를 주지 않음\n",
        "* 따라서 데이터가 주사위를 던졌을 때 나오는 수처럼 특정 범위안의 수인 경우에는 `bincount` 함수에 `minlength` 인수를 설정하여 쓰는 것이 더 편리\n",
        "* `bincount` 함수는 0 부터 `minlength` - 1 까지의 숫자에 대해 각각 카운트\n",
        "* 데이터가 없을 경우에는 카운트 값이 0이 됨"
      ],
      "metadata": {
        "id": "OrHXfmedm-gR"
      }
    },
    {
      "cell_type": "code",
      "source": [
        "np.bincount([1, 1, 2, 2, 2, 3], minlength=6) # 1 = 2, 2 = 3, 3 = 1"
      ],
      "metadata": {
        "colab": {
          "base_uri": "https://localhost:8080/"
        },
        "outputId": "3ef39e73-5966-4bac-ae81-477846b32192",
        "id": "yy21-llJm-gR"
      },
      "execution_count": null,
      "outputs": [
        {
          "output_type": "execute_result",
          "data": {
            "text/plain": [
              "array([0, 2, 3, 1, 0, 0])"
            ]
          },
          "metadata": {},
          "execution_count": 58
        }
      ]
    }
  ]
}